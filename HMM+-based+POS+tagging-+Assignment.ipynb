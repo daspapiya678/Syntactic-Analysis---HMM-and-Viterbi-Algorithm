{
 "cells": [
  {
   "cell_type": "markdown",
   "metadata": {},
   "source": [
    "## POS tagging using modified Viterbi"
   ]
  },
  {
   "cell_type": "markdown",
   "metadata": {},
   "source": [
    "### Data Preparation"
   ]
  },
  {
   "cell_type": "code",
   "execution_count": 1,
   "metadata": {},
   "outputs": [],
   "source": [
    "#Importing libraries\n",
    "import nltk, re, pprint\n",
    "import numpy as np\n",
    "import pandas as pd\n",
    "import requests\n",
    "import matplotlib.pyplot as plt\n",
    "import seaborn as sns\n",
    "import pprint, time\n",
    "import random\n",
    "from sklearn.model_selection import train_test_split\n",
    "from nltk.tokenize import word_tokenize"
   ]
  },
  {
   "cell_type": "code",
   "execution_count": 2,
   "metadata": {},
   "outputs": [],
   "source": [
    "# reading the Treebank tagged sentences\n",
    "nltk_data = list(nltk.corpus.treebank.tagged_sents(tagset='universal'))"
   ]
  },
  {
   "cell_type": "code",
   "execution_count": 3,
   "metadata": {},
   "outputs": [
    {
     "data": {
      "text/plain": [
       "[[('Pierre', 'NOUN'),\n",
       "  ('Vinken', 'NOUN'),\n",
       "  (',', '.'),\n",
       "  ('61', 'NUM'),\n",
       "  ('years', 'NOUN'),\n",
       "  ('old', 'ADJ'),\n",
       "  (',', '.'),\n",
       "  ('will', 'VERB'),\n",
       "  ('join', 'VERB'),\n",
       "  ('the', 'DET'),\n",
       "  ('board', 'NOUN'),\n",
       "  ('as', 'ADP'),\n",
       "  ('a', 'DET'),\n",
       "  ('nonexecutive', 'ADJ'),\n",
       "  ('director', 'NOUN'),\n",
       "  ('Nov.', 'NOUN'),\n",
       "  ('29', 'NUM'),\n",
       "  ('.', '.')],\n",
       " [('Mr.', 'NOUN'),\n",
       "  ('Vinken', 'NOUN'),\n",
       "  ('is', 'VERB'),\n",
       "  ('chairman', 'NOUN'),\n",
       "  ('of', 'ADP'),\n",
       "  ('Elsevier', 'NOUN'),\n",
       "  ('N.V.', 'NOUN'),\n",
       "  (',', '.'),\n",
       "  ('the', 'DET'),\n",
       "  ('Dutch', 'NOUN'),\n",
       "  ('publishing', 'VERB'),\n",
       "  ('group', 'NOUN'),\n",
       "  ('.', '.')],\n",
       " [('Rudolph', 'NOUN'),\n",
       "  ('Agnew', 'NOUN'),\n",
       "  (',', '.'),\n",
       "  ('55', 'NUM'),\n",
       "  ('years', 'NOUN'),\n",
       "  ('old', 'ADJ'),\n",
       "  ('and', 'CONJ'),\n",
       "  ('former', 'ADJ'),\n",
       "  ('chairman', 'NOUN'),\n",
       "  ('of', 'ADP'),\n",
       "  ('Consolidated', 'NOUN'),\n",
       "  ('Gold', 'NOUN'),\n",
       "  ('Fields', 'NOUN'),\n",
       "  ('PLC', 'NOUN'),\n",
       "  (',', '.'),\n",
       "  ('was', 'VERB'),\n",
       "  ('named', 'VERB'),\n",
       "  ('*-1', 'X'),\n",
       "  ('a', 'DET'),\n",
       "  ('nonexecutive', 'ADJ'),\n",
       "  ('director', 'NOUN'),\n",
       "  ('of', 'ADP'),\n",
       "  ('this', 'DET'),\n",
       "  ('British', 'ADJ'),\n",
       "  ('industrial', 'ADJ'),\n",
       "  ('conglomerate', 'NOUN'),\n",
       "  ('.', '.')],\n",
       " [('A', 'DET'),\n",
       "  ('form', 'NOUN'),\n",
       "  ('of', 'ADP'),\n",
       "  ('asbestos', 'NOUN'),\n",
       "  ('once', 'ADV'),\n",
       "  ('used', 'VERB'),\n",
       "  ('*', 'X'),\n",
       "  ('*', 'X'),\n",
       "  ('to', 'PRT'),\n",
       "  ('make', 'VERB'),\n",
       "  ('Kent', 'NOUN'),\n",
       "  ('cigarette', 'NOUN'),\n",
       "  ('filters', 'NOUN'),\n",
       "  ('has', 'VERB'),\n",
       "  ('caused', 'VERB'),\n",
       "  ('a', 'DET'),\n",
       "  ('high', 'ADJ'),\n",
       "  ('percentage', 'NOUN'),\n",
       "  ('of', 'ADP'),\n",
       "  ('cancer', 'NOUN'),\n",
       "  ('deaths', 'NOUN'),\n",
       "  ('among', 'ADP'),\n",
       "  ('a', 'DET'),\n",
       "  ('group', 'NOUN'),\n",
       "  ('of', 'ADP'),\n",
       "  ('workers', 'NOUN'),\n",
       "  ('exposed', 'VERB'),\n",
       "  ('*', 'X'),\n",
       "  ('to', 'PRT'),\n",
       "  ('it', 'PRON'),\n",
       "  ('more', 'ADV'),\n",
       "  ('than', 'ADP'),\n",
       "  ('30', 'NUM'),\n",
       "  ('years', 'NOUN'),\n",
       "  ('ago', 'ADP'),\n",
       "  (',', '.'),\n",
       "  ('researchers', 'NOUN'),\n",
       "  ('reported', 'VERB'),\n",
       "  ('0', 'X'),\n",
       "  ('*T*-1', 'X'),\n",
       "  ('.', '.')],\n",
       " [('The', 'DET'),\n",
       "  ('asbestos', 'NOUN'),\n",
       "  ('fiber', 'NOUN'),\n",
       "  (',', '.'),\n",
       "  ('crocidolite', 'NOUN'),\n",
       "  (',', '.'),\n",
       "  ('is', 'VERB'),\n",
       "  ('unusually', 'ADV'),\n",
       "  ('resilient', 'ADJ'),\n",
       "  ('once', 'ADP'),\n",
       "  ('it', 'PRON'),\n",
       "  ('enters', 'VERB'),\n",
       "  ('the', 'DET'),\n",
       "  ('lungs', 'NOUN'),\n",
       "  (',', '.'),\n",
       "  ('with', 'ADP'),\n",
       "  ('even', 'ADV'),\n",
       "  ('brief', 'ADJ'),\n",
       "  ('exposures', 'NOUN'),\n",
       "  ('to', 'PRT'),\n",
       "  ('it', 'PRON'),\n",
       "  ('causing', 'VERB'),\n",
       "  ('symptoms', 'NOUN'),\n",
       "  ('that', 'DET'),\n",
       "  ('*T*-1', 'X'),\n",
       "  ('show', 'VERB'),\n",
       "  ('up', 'PRT'),\n",
       "  ('decades', 'NOUN'),\n",
       "  ('later', 'ADJ'),\n",
       "  (',', '.'),\n",
       "  ('researchers', 'NOUN'),\n",
       "  ('said', 'VERB'),\n",
       "  ('0', 'X'),\n",
       "  ('*T*-2', 'X'),\n",
       "  ('.', '.')],\n",
       " [('Lorillard', 'NOUN'),\n",
       "  ('Inc.', 'NOUN'),\n",
       "  (',', '.'),\n",
       "  ('the', 'DET'),\n",
       "  ('unit', 'NOUN'),\n",
       "  ('of', 'ADP'),\n",
       "  ('New', 'ADJ'),\n",
       "  ('York-based', 'ADJ'),\n",
       "  ('Loews', 'NOUN'),\n",
       "  ('Corp.', 'NOUN'),\n",
       "  ('that', 'DET'),\n",
       "  ('*T*-2', 'X'),\n",
       "  ('makes', 'VERB'),\n",
       "  ('Kent', 'NOUN'),\n",
       "  ('cigarettes', 'NOUN'),\n",
       "  (',', '.'),\n",
       "  ('stopped', 'VERB'),\n",
       "  ('using', 'VERB'),\n",
       "  ('crocidolite', 'NOUN'),\n",
       "  ('in', 'ADP'),\n",
       "  ('its', 'PRON'),\n",
       "  ('Micronite', 'NOUN'),\n",
       "  ('cigarette', 'NOUN'),\n",
       "  ('filters', 'NOUN'),\n",
       "  ('in', 'ADP'),\n",
       "  ('1956', 'NUM'),\n",
       "  ('.', '.')],\n",
       " [('Although', 'ADP'),\n",
       "  ('preliminary', 'ADJ'),\n",
       "  ('findings', 'NOUN'),\n",
       "  ('were', 'VERB'),\n",
       "  ('reported', 'VERB'),\n",
       "  ('*-2', 'X'),\n",
       "  ('more', 'ADV'),\n",
       "  ('than', 'ADP'),\n",
       "  ('a', 'DET'),\n",
       "  ('year', 'NOUN'),\n",
       "  ('ago', 'ADP'),\n",
       "  (',', '.'),\n",
       "  ('the', 'DET'),\n",
       "  ('latest', 'ADJ'),\n",
       "  ('results', 'NOUN'),\n",
       "  ('appear', 'VERB'),\n",
       "  ('in', 'ADP'),\n",
       "  ('today', 'NOUN'),\n",
       "  (\"'s\", 'PRT'),\n",
       "  ('New', 'NOUN'),\n",
       "  ('England', 'NOUN'),\n",
       "  ('Journal', 'NOUN'),\n",
       "  ('of', 'ADP'),\n",
       "  ('Medicine', 'NOUN'),\n",
       "  (',', '.'),\n",
       "  ('a', 'DET'),\n",
       "  ('forum', 'NOUN'),\n",
       "  ('likely', 'ADJ'),\n",
       "  ('*', 'X'),\n",
       "  ('to', 'PRT'),\n",
       "  ('bring', 'VERB'),\n",
       "  ('new', 'ADJ'),\n",
       "  ('attention', 'NOUN'),\n",
       "  ('to', 'PRT'),\n",
       "  ('the', 'DET'),\n",
       "  ('problem', 'NOUN'),\n",
       "  ('.', '.')],\n",
       " [('A', 'DET'),\n",
       "  ('Lorillard', 'NOUN'),\n",
       "  ('spokewoman', 'NOUN'),\n",
       "  ('said', 'VERB'),\n",
       "  (',', '.'),\n",
       "  ('``', '.'),\n",
       "  ('This', 'DET'),\n",
       "  ('is', 'VERB'),\n",
       "  ('an', 'DET'),\n",
       "  ('old', 'ADJ'),\n",
       "  ('story', 'NOUN'),\n",
       "  ('.', '.')],\n",
       " [('We', 'PRON'),\n",
       "  (\"'re\", 'VERB'),\n",
       "  ('talking', 'VERB'),\n",
       "  ('about', 'ADP'),\n",
       "  ('years', 'NOUN'),\n",
       "  ('ago', 'ADP'),\n",
       "  ('before', 'ADP'),\n",
       "  ('anyone', 'NOUN'),\n",
       "  ('heard', 'VERB'),\n",
       "  ('of', 'ADP'),\n",
       "  ('asbestos', 'NOUN'),\n",
       "  ('having', 'VERB'),\n",
       "  ('any', 'DET'),\n",
       "  ('questionable', 'ADJ'),\n",
       "  ('properties', 'NOUN'),\n",
       "  ('.', '.')],\n",
       " [('There', 'DET'),\n",
       "  ('is', 'VERB'),\n",
       "  ('no', 'DET'),\n",
       "  ('asbestos', 'NOUN'),\n",
       "  ('in', 'ADP'),\n",
       "  ('our', 'PRON'),\n",
       "  ('products', 'NOUN'),\n",
       "  ('now', 'ADV'),\n",
       "  ('.', '.'),\n",
       "  (\"''\", '.')]]"
      ]
     },
     "execution_count": 3,
     "metadata": {},
     "output_type": "execute_result"
    }
   ],
   "source": [
    "#Read first ten sentences in the dataset\n",
    "nltk_data[:10]"
   ]
  },
  {
   "cell_type": "code",
   "execution_count": 4,
   "metadata": {},
   "outputs": [
    {
     "name": "stdout",
     "output_type": "stream",
     "text": [
      "3718\n",
      "196\n"
     ]
    }
   ],
   "source": [
    "#set the random seed\n",
    "random.seed(1234)\n",
    "\n",
    "#Divide the data into training and test sets\n",
    "train_set, test_set = train_test_split(nltk_data,test_size=0.05)\n",
    "\n",
    "#View length of training and test data sets\n",
    "print(len(train_set))\n",
    "print(len(test_set))"
   ]
  },
  {
   "cell_type": "code",
   "execution_count": 5,
   "metadata": {},
   "outputs": [
    {
     "name": "stdout",
     "output_type": "stream",
     "text": [
      "[[('But', 'CONJ'), ('the', 'DET'), ('Army', 'NOUN'), ('Corps', 'NOUN'), ('of', 'ADP'), ('Engineers', 'NOUN'), ('expects', 'VERB'), ('the', 'DET'), ('river', 'NOUN'), ('level', 'NOUN'), ('to', 'PRT'), ('continue', 'VERB'), ('*-1', 'X'), ('falling', 'VERB'), ('this', 'DET'), ('month', 'NOUN'), ('.', '.')], [('The', 'DET'), ('plan', 'NOUN'), ('calls', 'VERB'), ('for', 'ADP'), ('*', 'X'), ('closing', 'VERB'), ('at', 'ADP'), ('least', 'ADJ'), ('nine', 'NUM'), ('plants', 'NOUN'), ('and', 'CONJ'), ('eliminating', 'VERB'), ('about', 'ADP'), ('3,600', 'NUM'), ('jobs', 'NOUN'), ('.', '.')], [('That', 'DET'), ('divergence', 'NOUN'), ('is', 'VERB'), ('what', 'PRON'), ('stock', 'NOUN'), ('index', 'NOUN'), ('traders', 'NOUN'), ('seek', 'VERB'), ('*T*-69', 'X'), ('.', '.')], [('Charities', 'NOUN'), ('test', 'VERB'), ('the', 'DET'), ('waters', 'NOUN'), (',', '.'), ('but', 'CONJ'), ('they', 'PRON'), ('face', 'VERB'), ('legal', 'ADJ'), ('barriers', 'NOUN'), ('to', 'PRT'), ('electronic', 'ADJ'), ('fund', 'NOUN'), ('raising', 'NOUN'), ('.', '.')], [('He', 'PRON'), ('earned', 'VERB'), ('his', 'PRON'), ('doctorate', 'NOUN'), ('in', 'ADP'), ('nuclear', 'ADJ'), ('physics', 'NOUN'), ('from', 'ADP'), ('the', 'DET'), ('Massachusetts', 'NOUN'), ('Institute', 'NOUN'), ('of', 'ADP'), ('Technology', 'NOUN'), ('.', '.')], [('BANKERS', 'NOUN'), ('ACCEPTANCES', 'NOUN'), (':', '.'), ('8.50', 'NUM'), ('%', 'NOUN'), ('30', 'NUM'), ('days', 'NOUN'), (';', '.'), ('8.48', 'NUM'), ('%', 'NOUN'), ('60', 'NUM'), ('days', 'NOUN'), (';', '.'), ('8.30', 'NUM'), ('%', 'NOUN'), ('90', 'NUM'), ('days', 'NOUN'), (';', '.'), ('8.15', 'NUM'), ('%', 'NOUN'), ('120', 'NUM'), ('days', 'NOUN'), (';', '.'), ('8.07', 'NUM'), ('%', 'NOUN'), ('150', 'NUM'), ('days', 'NOUN'), (';', '.'), ('7.95', 'NUM'), ('%', 'NOUN'), ('180', 'NUM'), ('days', 'NOUN'), ('.', '.')], [('ASLACTON', 'NOUN'), (',', '.'), ('England', 'NOUN')], [('*', 'X'), ('PORTING', 'VERB'), ('POTABLES', 'NOUN'), ('just', 'ADV'), ('got', 'VERB'), ('easier', 'ADJ'), (',', '.'), ('or', 'CONJ'), ('so', 'ADV'), ('claims', 'VERB'), ('Scypher', 'NOUN'), ('Corp.', 'NOUN'), (',', '.'), ('the', 'DET'), ('maker', 'NOUN'), ('of', 'ADP'), ('the', 'DET'), ('Cup-Tote', 'NOUN'), ('.', '.')], [('Rep.', 'NOUN'), ('Gary', 'NOUN'), ('Ackerman', 'NOUN'), ('noted', 'VERB'), ('that', 'ADP'), ('past', 'ADJ'), ('food', 'NOUN'), ('aid', 'NOUN'), ('had', 'VERB'), ('harmed', 'VERB'), ('farmers', 'NOUN'), ('in', 'ADP'), ('El', 'NOUN'), ('Salvador', 'NOUN'), ('and', 'CONJ'), ('Egypt', 'NOUN'), ('.', '.')], [('Banks', 'NOUN'), ('could', 'VERB'), ('seek', 'VERB'), ('*-1', 'X'), ('to', 'PRT'), ('recover', 'VERB'), ('payments', 'NOUN'), ('to', 'PRT'), ('local', 'ADJ'), ('authorities', 'NOUN'), ('in', 'ADP'), ('instances', 'NOUN'), ('where', 'ADV'), ('the', 'DET'), ('banks', 'NOUN'), ('made', 'VERB'), ('net', 'ADJ'), ('payments', 'NOUN'), ('to', 'PRT'), ('councils', 'NOUN'), ('*T*-2', 'X'), ('.', '.')], [('Where', 'ADV'), ('a', 'DET'), ('bank', 'NOUN'), ('once', 'ADV'), ('offered', 'VERB'), ('a', 'DET'), ('standard', 'ADJ'), ('passbook', 'NOUN'), ('savings', 'NOUN'), ('account', 'NOUN'), ('*T*-2', 'X'), (',', '.'), ('it', 'PRON'), ('began', 'VERB'), ('*-1', 'X'), ('offering', 'VERB'), ('money-market', 'ADJ'), ('accounts', 'NOUN'), (',', '.'), ('certificates', 'NOUN'), ('of', 'ADP'), ('deposit', 'NOUN'), ('and', 'CONJ'), ('interest-bearing', 'ADJ'), ('checking', 'NOUN'), (',', '.'), ('and', 'CONJ'), ('staggering', 'ADJ'), ('rates', 'NOUN'), ('based', 'VERB'), ('on', 'ADP'), ('the', 'DET'), ('size', 'NOUN'), ('of', 'ADP'), ('deposits', 'NOUN'), ('.', '.')], [('At', 'ADP'), ('his', 'PRON'), ('new', 'ADJ'), ('job', 'NOUN'), (',', '.'), ('as', 'ADP'), ('partner', 'NOUN'), ('in', 'ADP'), ('charge', 'NOUN'), ('of', 'ADP'), ('federal', 'ADJ'), ('litigation', 'NOUN'), ('in', 'ADP'), ('the', 'DET'), ('Sacramento', 'NOUN'), ('office', 'NOUN'), ('of', 'ADP'), ('Orrick', 'NOUN'), (',', '.'), ('Herrington', 'NOUN'), ('&', 'CONJ'), ('Sutcliffe', 'NOUN'), (',', '.'), ('he', 'PRON'), ('will', 'VERB'), ('make', 'VERB'), ('out', 'PRT'), ('much', 'ADV'), ('better', 'ADV'), ('.', '.')], [('The', 'DET'), ('top', 'ADJ'), ('money', 'NOUN'), ('funds', 'NOUN'), ('are', 'VERB'), ('currently', 'ADV'), ('yielding', 'VERB'), ('well', 'ADV'), ('over', 'ADP'), ('9', 'NUM'), ('%', 'NOUN'), ('.', '.')], [('Although', 'ADP'), ('*-2', 'X'), ('set', 'VERB'), ('*-1', 'X'), ('in', 'ADP'), ('Japan', 'NOUN'), (',', '.'), ('the', 'DET'), ('novel', 'NOUN'), (\"'s\", 'PRT'), ('texture', 'NOUN'), ('is', 'VERB'), ('almost', 'ADV'), ('entirely', 'ADV'), ('Western', 'ADJ'), (',', '.'), ('especially', 'ADV'), ('American', 'ADJ'), ('.', '.')], [('Bank', 'NOUN'), ('of', 'ADP'), ('New', 'NOUN'), ('England', 'NOUN'), (\"'s\", 'PRT'), ('shares', 'NOUN'), ('are', 'VERB'), ('traded', 'VERB'), ('*-1', 'X'), ('on', 'ADP'), ('the', 'DET'), ('New', 'NOUN'), ('York', 'NOUN'), ('Stock', 'NOUN'), ('Exchange', 'NOUN'), ('.', '.')], [('In', 'ADP'), ('sometimes', 'ADV'), ('amusing', 'ADJ'), (',', '.'), ('more', 'ADV'), ('often', 'ADV'), ('supercilious', 'ADJ'), (',', '.'), ('even', 'ADV'), ('vicious', 'ADJ'), ('passages', 'NOUN'), (',', '.'), ('Mr.', 'NOUN'), ('Katzenstein', 'NOUN'), ('describes', 'VERB'), ('how', 'ADV'), ('Sony', 'NOUN'), ('invades', 'VERB'), ('even', 'ADV'), ('the', 'DET'), ('most', 'ADV'), ('mundane', 'ADJ'), ('aspects', 'NOUN'), ('of', 'ADP'), ('its', 'PRON'), ('workers', 'NOUN'), (\"'\", 'PRT'), ('lives', 'NOUN'), ('--', '.'), ('at', 'ADP'), ('the', 'DET'), ('regimented', 'ADJ'), ('office', 'NOUN'), (',', '.'), ('where', 'ADV'), ('employees', 'NOUN'), ('are', 'VERB'), ('assigned', 'VERB'), ('*-59', 'X'), ('lunch', 'NOUN'), ('partners', 'NOUN'), ('*T*-1', 'X'), ('--', '.'), ('and', 'ADJ'), ('at', 'ADP'), ('``', '.'), ('home', 'NOUN'), (\"''\", '.'), ('in', 'ADP'), ('the', 'DET'), ('austere', 'ADJ'), ('company', 'NOUN'), ('dormitory', 'NOUN'), ('run', 'VERB'), ('*', 'X'), ('by', 'ADP'), ('a', 'DET'), ('prying', 'ADJ'), ('caretaker', 'NOUN'), ('*T*-2', 'X'), ('.', '.')], [('In', 'ADP'), ('1986-87', 'NUM'), ('and', 'CONJ'), ('1987-88', 'NUM'), (',', '.'), ('she', 'PRON'), ('applied', 'VERB'), ('for', 'ADP'), ('*RNR*-1', 'X'), ('and', 'CONJ'), ('won', 'VERB'), ('*RNR*-1', 'X'), ('bonus', 'NOUN'), ('pay', 'NOUN'), ('under', 'ADP'), ('the', 'DET'), ('reform', 'NOUN'), ('law', 'NOUN'), ('.', '.')], [('RMS', 'NOUN'), ('said', 'VERB'), ('0', 'X'), ('it', 'PRON'), ('had', 'VERB'), ('a', 'DET'), ('loss', 'NOUN'), ('of', 'ADP'), ('$', '.'), ('158,666', 'NUM'), ('*U*', 'X'), (',', '.'), ('or', 'CONJ'), ('10', 'NUM'), ('cents', 'NOUN'), ('a', 'DET'), ('share', 'NOUN'), (',', '.'), ('in', 'ADP'), ('the', 'DET'), ('third', 'ADJ'), ('quarter', 'NOUN'), (',', '.'), ('compared', 'VERB'), ('with', 'ADP'), ('a', 'DET'), ('year-earlier', 'ADJ'), ('loss', 'NOUN'), ('of', 'ADP'), ('$', '.'), ('26,956', 'NUM'), ('*U*', 'X'), (',', '.'), ('or', 'CONJ'), ('two', 'NUM'), ('cents', 'NOUN'), ('a', 'DET'), ('share', 'NOUN'), ('.', '.')], [('Tray', 'NOUN'), ('Bon', 'NOUN'), ('?', '.')], [('With', 'ADP'), ('the', 'DET'), ('harvest', 'NOUN'), ('winding', 'VERB'), ('down', 'ADP'), (',', '.'), ('however', 'ADV'), (',', '.'), ('some', 'DET'), ('analysts', 'NOUN'), ('are', 'VERB'), ('speculating', 'VERB'), ('that', 'ADP'), ('prices', 'NOUN'), ('might', 'VERB'), ('jump', 'VERB'), ('in', 'ADP'), ('some', 'DET'), ('regions', 'NOUN'), ('as', 'ADP'), ('U.S.', 'NOUN'), ('exporters', 'NOUN'), ('try', 'VERB'), ('*-1', 'X'), ('to', 'PRT'), ('gather', 'VERB'), ('the', 'DET'), ('corn', 'NOUN'), ('0', 'X'), ('they', 'PRON'), ('are', 'VERB'), ('obligated', 'VERB'), ('*-3', 'X'), ('to', 'PRT'), ('deliver', 'VERB'), ('*T*-2', 'X'), ('.', '.')], [('If', 'ADP'), ('President', 'NOUN'), ('Bush', 'NOUN'), ('loses', 'VERB'), ('at', 'ADP'), ('the', 'DET'), ('court', 'NOUN'), (',', '.'), ('it', 'PRON'), ('might', 'VERB'), ('be', 'VERB'), ('disappointing', 'ADJ'), (',', '.'), ('as', 'ADP'), ('Morrison', 'NOUN'), ('v.', 'CONJ'), ('Olson', 'NOUN'), ('was', 'VERB'), ('*?*', 'X'), ('for', 'ADP'), ('the', 'DET'), ('Reagan', 'NOUN'), ('administration', 'NOUN'), ('.', '.')], [('But', 'CONJ'), ('the', 'DET'), ('exact', 'ADJ'), ('amount', 'NOUN'), ('of', 'ADP'), ('Reliance', 'NOUN'), (\"'s\", 'PRT'), ('current', 'ADJ'), ('holding', 'NOUN'), ('has', 'VERB'), (\"n't\", 'ADV'), ('been', 'VERB'), ('formally', 'ADV'), ('disclosed', 'VERB'), ('*-1', 'X'), ('.', '.')], [('Mary', 'NOUN'), ('Beth', 'NOUN'), ('Marchand', 'NOUN'), (',', '.'), ('a', 'DET'), ('Greenville', 'NOUN'), ('11th', 'ADJ'), ('grader', 'NOUN'), (',', '.'), ('also', 'ADV'), ('says', 'VERB'), ('0', 'X'), ('Mrs.', 'NOUN'), ('Yeargin', 'NOUN'), ('inspired', 'VERB'), ('her', 'PRON'), ('to', 'PRT'), ('go', 'VERB'), ('into', 'ADP'), ('education', 'NOUN'), ('.', '.')], [('NCR', 'NOUN'), ('Corp.', 'NOUN'), ('unveiled', 'VERB'), ('two', 'NUM'), ('models', 'NOUN'), ('of', 'ADP'), ('its', 'PRON'), ('Tower', 'NOUN'), ('line', 'NOUN'), ('of', 'ADP'), ('midrange', 'ADJ'), ('computers', 'NOUN'), ('and', 'CONJ'), ('introduced', 'VERB'), ('advanced', 'VERB'), ('networking', 'NOUN'), ('software', 'NOUN'), ('0', 'X'), ('*', 'X'), ('to', 'PRT'), ('allow', 'VERB'), ('the', 'DET'), ('Tower', 'NOUN'), ('family', 'NOUN'), ('to', 'PRT'), ('operate', 'VERB'), ('as', 'ADP'), ('a', 'DET'), ('central', 'ADJ'), ('hub', 'NOUN'), ('in', 'ADP'), ('a', 'DET'), ('network', 'NOUN'), ('of', 'ADP'), ('computers', 'NOUN'), ('*T*-1', 'X'), ('.', '.')], [('The', 'DET'), ('loan', 'NOUN'), ('may', 'VERB'), ('be', 'VERB'), ('extended', 'VERB'), ('*-1', 'X'), ('by', 'ADP'), ('the', 'DET'), ('McAlpine', 'NOUN'), ('group', 'NOUN'), ('for', 'ADP'), ('an', 'DET'), ('additional', 'ADJ'), ('year', 'NOUN'), ('with', 'ADP'), ('an', 'DET'), ('increase', 'NOUN'), ('in', 'ADP'), ('the', 'DET'), ('conversion', 'NOUN'), ('price', 'NOUN'), ('to', 'PRT'), ('$', '.'), ('2.50', 'NUM'), ('*U*', 'X'), ('a', 'DET'), ('share', 'NOUN'), ('.', '.')], [('Also', 'ADV'), ('in', 'ADP'), ('Beirut', 'NOUN'), (',', '.'), ('a', 'DET'), ('Moslem', 'NOUN'), ('group', 'NOUN'), ('vowed', 'VERB'), ('*-1', 'X'), ('to', 'PRT'), ('kill', 'VERB'), ('Americans', 'NOUN'), ('if', 'ADP'), ('the', 'DET'), ('U.S.', 'NOUN'), ('implements', 'VERB'), ('a', 'DET'), ('policy', 'NOUN'), ('0', 'X'), ('*T*-2', 'X'), ('to', 'PRT'), ('seize', 'VERB'), ('suspects', 'NOUN'), ('abroad', 'ADV'), ('.', '.')], [('How', 'ADV'), ('many', 'ADJ'), ('government', 'NOUN'), ('programs', 'NOUN'), ('and', 'CONJ'), ('policies', 'NOUN'), ('*T*-1', 'X'), ('exist', 'VERB'), ('because', 'ADP'), ('they', 'PRON'), ('line', 'VERB'), ('the', 'DET'), ('pockets', 'NOUN'), ('of', 'ADP'), ('political', 'ADJ'), ('insiders', 'NOUN'), ('?', '.')], [('A', 'DET'), ('survey', 'NOUN'), ('by', 'ADP'), ('the', 'DET'), ('Federal', 'NOUN'), ('Reserve', 'NOUN'), (\"'s\", 'PRT'), ('12', 'NUM'), ('district', 'NOUN'), ('banks', 'NOUN'), ('and', 'CONJ'), ('the', 'DET'), ('latest', 'ADJ'), ('report', 'NOUN'), ('by', 'ADP'), ('the', 'DET'), ('National', 'NOUN'), ('Association', 'NOUN'), ('of', 'ADP'), ('Purchasing', 'NOUN'), ('Management', 'NOUN'), ('blurred', 'VERB'), ('that', 'DET'), ('picture', 'NOUN'), ('of', 'ADP'), ('the', 'DET'), ('economy', 'NOUN'), ('.', '.')], [('A', 'DET'), ('lack', 'NOUN'), ('of', 'ADP'), ('enthusiasm', 'NOUN'), ('with', 'ADP'), ('the', 'DET'), ('latest', 'ADJ'), ('economic', 'ADJ'), ('data', 'NOUN'), ('hampered', 'VERB'), ('the', 'DET'), ('stock', 'NOUN'), ('market', 'NOUN'), (\"'s\", 'PRT'), ('bid', 'NOUN'), ('*', 'X'), ('to', 'PRT'), ('extend', 'VERB'), ('Tuesday', 'NOUN'), (\"'s\", 'PRT'), ('sharp', 'ADJ'), ('gains', 'NOUN'), (',', '.'), ('as', 'ADP'), ('prices', 'NOUN'), ('closed', 'VERB'), ('slightly', 'ADV'), ('higher', 'ADJ'), ('in', 'ADP'), ('sluggish', 'ADJ'), ('trading', 'NOUN'), ('.', '.')], [('The', 'DET'), ('vicar', 'NOUN'), (',', '.'), ('W.D.', 'NOUN'), ('Jones', 'NOUN'), (',', '.'), ('refuses', 'VERB'), ('*-1', 'X'), ('to', 'PRT'), ('talk', 'VERB'), ('about', 'ADP'), ('it', 'PRON'), (',', '.'), ('*-1', 'X'), ('saying', 'VERB'), ('0', 'X'), ('it', 'PRON'), ('would', 'VERB'), ('``', '.'), ('reopen', 'VERB'), ('the', 'DET'), ('wound', 'NOUN'), ('.', '.'), (\"''\", '.')], [('And', 'CONJ'), ('then', 'ADV'), ('this', 'DET'), ('commercial', 'NOUN'), (',', '.'), ('produced', 'VERB'), ('*', 'X'), ('by', 'ADP'), ('Bob', 'NOUN'), ('Squier', 'NOUN'), (',', '.'), ('gets', 'VERB'), ('down', 'ADV'), ('to', 'PRT'), ('its', 'PRON'), ('own', 'ADJ'), ('mean', 'ADJ'), ('and', 'CONJ'), ('dirty', 'ADJ'), ('business', 'NOUN'), ('.', '.')], [('A', 'DET'), ('player', 'NOUN'), (\"'s\", 'PRT'), ('commitment', 'NOUN'), ('to', 'PRT'), ('practice', 'NOUN'), ('and', 'CONJ'), ('team', 'NOUN'), ('image', 'NOUN'), ('is', 'VERB'), ('as', 'ADV'), ('important', 'ADJ'), ('as', 'ADP'), ('his', 'PRON'), ('batting', 'NOUN'), ('average', 'NOUN'), ('.', '.')], [('The', 'DET'), ('company', 'NOUN'), ('said', 'VERB'), ('0', 'X'), ('local', 'ADJ'), ('authorities', 'NOUN'), ('held', 'VERB'), ('hearings', 'NOUN'), ('on', 'ADP'), ('the', 'DET'), ('allegations', 'NOUN'), ('last', 'ADJ'), ('spring', 'NOUN'), ('and', 'CONJ'), ('had', 'VERB'), ('returned', 'VERB'), ('the', 'DET'), ('plant', 'NOUN'), ('to', 'PRT'), ('``', '.'), ('routine', 'ADJ'), ('inspection', 'NOUN'), (\"''\", '.'), ('in', 'ADP'), ('August', 'NOUN'), ('.', '.')], [('The', 'DET'), ('Kearny', 'NOUN'), (',', '.'), ('N.J.-based', 'ADJ'), ('maker', 'NOUN'), ('of', 'ADP'), ('hair', 'NOUN'), ('accessories', 'NOUN'), ('and', 'CONJ'), ('other', 'ADJ'), ('cosmetic', 'NOUN'), ('products', 'NOUN'), ('said', 'VERB'), ('0', 'X'), ('it', 'PRON'), ('cut', 'VERB'), ('the', 'DET'), ('dividend', 'NOUN'), ('due', 'ADJ'), ('to', 'PRT'), ('its', 'PRON'), ('third-quarter', 'NOUN'), ('loss', 'NOUN'), ('of', 'ADP'), ('$', '.'), ('992,000', 'NUM'), ('*U*', 'X'), (',', '.'), ('or', 'CONJ'), ('15', 'NUM'), ('cents', 'NOUN'), ('a', 'DET'), ('share', 'NOUN'), ('.', '.')], [('In', 'ADP'), ('the', 'DET'), ('past', 'NOUN'), (',', '.'), ('they', 'PRON'), ('say', 'VERB'), ('0', 'X'), ('*T*-1', 'X'), (',', '.'), ('the', 'DET'), ('strongest', 'ADJ'), ('dividend', 'NOUN'), ('growth', 'NOUN'), ('has', 'VERB'), ('often', 'ADV'), ('come', 'VERB'), ('at', 'ADP'), ('times', 'NOUN'), ('when', 'ADV'), ('the', 'DET'), ('stock-market', 'NOUN'), ('party', 'NOUN'), ('was', 'VERB'), ('almost', 'ADV'), ('over', 'ADJ'), ('*T*-2', 'X'), ('.', '.')], [('The', 'DET'), ('real', 'ADJ'), ('battle', 'NOUN'), ('is', 'VERB'), ('over', 'ADP'), ('who', 'PRON'), ('*T*-1', 'X'), ('will', 'VERB'), ('control', 'VERB'), ('that', 'DET'), ('market', 'NOUN'), ('and', 'CONJ'), ('reap', 'VERB'), ('its', 'PRON'), ('huge', 'ADJ'), ('rewards', 'NOUN'), ('.', '.')], [('The', 'DET'), ('analyst', 'NOUN'), ('noted', 'VERB'), ('that', 'ADP'), ('also', 'ADV'), ('inherent', 'ADJ'), ('in', 'ADP'), ('all', 'DET'), ('metal', 'NOUN'), ('markets', 'NOUN'), ('was', 'VERB'), ('*T*-1', 'X'), ('a', 'DET'), ('sympathetic', 'ADJ'), ('reaction', 'NOUN'), ('to', 'PRT'), ('stocks', 'NOUN'), ('.', '.')], [('His', 'PRON'), ('duties', 'NOUN'), ('as', 'ADP'), ('chief', 'ADJ'), ('executive', 'NOUN'), ('will', 'VERB'), ('be', 'VERB'), ('assumed', 'VERB'), ('*-121', 'X'), ('by', 'ADP'), ('Chairman', 'NOUN'), ('Jay', 'NOUN'), ('B.', 'NOUN'), ('Langner', 'NOUN'), ('.', '.')], [('Among', 'ADP'), ('the', 'DET'), ('lot', 'NOUN'), ('of', 'ADP'), ('them', 'PRON'), (',', '.'), ('not', 'ADV'), ('one', 'NUM'), ('is', 'VERB'), ('wrestling', 'VERB'), ('with', 'ADP'), ('good', 'ADJ'), ('and', 'CONJ'), ('evil', 'ADJ'), (',', '.'), ('or', 'CONJ'), ('especially', 'ADV'), ('intelligent', 'ADJ'), ('or', 'CONJ'), ('even', 'ADV'), ('temporarily', 'ADV'), ('insane', 'ADJ'), ('.', '.')], [('Any', 'DET'), ('question', 'NOUN'), ('as', 'ADP'), ('to', 'PRT'), ('why', 'ADV'), ('an', 'DET'), ('author', 'NOUN'), ('would', 'VERB'), ('believe', 'VERB'), ('0', 'X'), ('this', 'DET'), ('plaintive', 'ADJ'), (',', '.'), ('high-minded', 'ADJ'), ('note', 'NOUN'), ('of', 'ADP'), ('assurance', 'NOUN'), ('is', 'VERB'), ('necessary', 'ADJ'), ('*T*-2', 'X'), ('is', 'VERB'), ('answered', 'VERB'), ('*-1', 'X'), ('by', 'ADP'), ('*', 'X'), ('reading', 'VERB'), ('this', 'DET'), ('book', 'NOUN'), ('about', 'ADP'), ('sticky', 'ADJ'), ('fingers', 'NOUN'), ('and', 'CONJ'), ('sweaty', 'ADJ'), ('scammers', 'NOUN'), ('.', '.')]]\n"
     ]
    }
   ],
   "source": [
    "print(train_set[:40])"
   ]
  },
  {
   "cell_type": "code",
   "execution_count": 6,
   "metadata": {},
   "outputs": [
    {
     "data": {
      "text/plain": [
       "95797"
      ]
     },
     "execution_count": 6,
     "metadata": {},
     "output_type": "execute_result"
    }
   ],
   "source": [
    "# Getting list of tagged words\n",
    "train_tagged_words = [tup for sent in train_set for tup in sent]\n",
    "len(train_tagged_words)"
   ]
  },
  {
   "cell_type": "code",
   "execution_count": 7,
   "metadata": {},
   "outputs": [
    {
     "name": "stdout",
     "output_type": "stream",
     "text": [
      "[[('But', 'CONJ'), ('the', 'DET'), ('Army', 'NOUN'), ('Corps', 'NOUN'), ('of', 'ADP'), ('Engineers', 'NOUN'), ('expects', 'VERB'), ('the', 'DET'), ('river', 'NOUN'), ('level', 'NOUN'), ('to', 'PRT'), ('continue', 'VERB'), ('*-1', 'X'), ('falling', 'VERB'), ('this', 'DET'), ('month', 'NOUN'), ('.', '.')], [('The', 'DET'), ('plan', 'NOUN'), ('calls', 'VERB'), ('for', 'ADP'), ('*', 'X'), ('closing', 'VERB'), ('at', 'ADP'), ('least', 'ADJ'), ('nine', 'NUM'), ('plants', 'NOUN'), ('and', 'CONJ'), ('eliminating', 'VERB'), ('about', 'ADP'), ('3,600', 'NUM'), ('jobs', 'NOUN'), ('.', '.')], [('That', 'DET'), ('divergence', 'NOUN'), ('is', 'VERB'), ('what', 'PRON'), ('stock', 'NOUN'), ('index', 'NOUN'), ('traders', 'NOUN'), ('seek', 'VERB'), ('*T*-69', 'X'), ('.', '.')], [('Charities', 'NOUN'), ('test', 'VERB'), ('the', 'DET'), ('waters', 'NOUN'), (',', '.'), ('but', 'CONJ'), ('they', 'PRON'), ('face', 'VERB'), ('legal', 'ADJ'), ('barriers', 'NOUN'), ('to', 'PRT'), ('electronic', 'ADJ'), ('fund', 'NOUN'), ('raising', 'NOUN'), ('.', '.')], [('He', 'PRON'), ('earned', 'VERB'), ('his', 'PRON'), ('doctorate', 'NOUN'), ('in', 'ADP'), ('nuclear', 'ADJ'), ('physics', 'NOUN'), ('from', 'ADP'), ('the', 'DET'), ('Massachusetts', 'NOUN'), ('Institute', 'NOUN'), ('of', 'ADP'), ('Technology', 'NOUN'), ('.', '.')], [('BANKERS', 'NOUN'), ('ACCEPTANCES', 'NOUN'), (':', '.'), ('8.50', 'NUM'), ('%', 'NOUN'), ('30', 'NUM'), ('days', 'NOUN'), (';', '.'), ('8.48', 'NUM'), ('%', 'NOUN'), ('60', 'NUM'), ('days', 'NOUN'), (';', '.'), ('8.30', 'NUM'), ('%', 'NOUN'), ('90', 'NUM'), ('days', 'NOUN'), (';', '.'), ('8.15', 'NUM'), ('%', 'NOUN'), ('120', 'NUM'), ('days', 'NOUN'), (';', '.'), ('8.07', 'NUM'), ('%', 'NOUN'), ('150', 'NUM'), ('days', 'NOUN'), (';', '.'), ('7.95', 'NUM'), ('%', 'NOUN'), ('180', 'NUM'), ('days', 'NOUN'), ('.', '.')], [('ASLACTON', 'NOUN'), (',', '.'), ('England', 'NOUN')], [('*', 'X'), ('PORTING', 'VERB'), ('POTABLES', 'NOUN'), ('just', 'ADV'), ('got', 'VERB'), ('easier', 'ADJ'), (',', '.'), ('or', 'CONJ'), ('so', 'ADV'), ('claims', 'VERB'), ('Scypher', 'NOUN'), ('Corp.', 'NOUN'), (',', '.'), ('the', 'DET'), ('maker', 'NOUN'), ('of', 'ADP'), ('the', 'DET'), ('Cup-Tote', 'NOUN'), ('.', '.')], [('Rep.', 'NOUN'), ('Gary', 'NOUN'), ('Ackerman', 'NOUN'), ('noted', 'VERB'), ('that', 'ADP'), ('past', 'ADJ'), ('food', 'NOUN'), ('aid', 'NOUN'), ('had', 'VERB'), ('harmed', 'VERB'), ('farmers', 'NOUN'), ('in', 'ADP'), ('El', 'NOUN'), ('Salvador', 'NOUN'), ('and', 'CONJ'), ('Egypt', 'NOUN'), ('.', '.')], [('Banks', 'NOUN'), ('could', 'VERB'), ('seek', 'VERB'), ('*-1', 'X'), ('to', 'PRT'), ('recover', 'VERB'), ('payments', 'NOUN'), ('to', 'PRT'), ('local', 'ADJ'), ('authorities', 'NOUN'), ('in', 'ADP'), ('instances', 'NOUN'), ('where', 'ADV'), ('the', 'DET'), ('banks', 'NOUN'), ('made', 'VERB'), ('net', 'ADJ'), ('payments', 'NOUN'), ('to', 'PRT'), ('councils', 'NOUN'), ('*T*-2', 'X'), ('.', '.')], [('Where', 'ADV'), ('a', 'DET'), ('bank', 'NOUN'), ('once', 'ADV'), ('offered', 'VERB'), ('a', 'DET'), ('standard', 'ADJ'), ('passbook', 'NOUN'), ('savings', 'NOUN'), ('account', 'NOUN'), ('*T*-2', 'X'), (',', '.'), ('it', 'PRON'), ('began', 'VERB'), ('*-1', 'X'), ('offering', 'VERB'), ('money-market', 'ADJ'), ('accounts', 'NOUN'), (',', '.'), ('certificates', 'NOUN'), ('of', 'ADP'), ('deposit', 'NOUN'), ('and', 'CONJ'), ('interest-bearing', 'ADJ'), ('checking', 'NOUN'), (',', '.'), ('and', 'CONJ'), ('staggering', 'ADJ'), ('rates', 'NOUN'), ('based', 'VERB'), ('on', 'ADP'), ('the', 'DET'), ('size', 'NOUN'), ('of', 'ADP'), ('deposits', 'NOUN'), ('.', '.')], [('At', 'ADP'), ('his', 'PRON'), ('new', 'ADJ'), ('job', 'NOUN'), (',', '.'), ('as', 'ADP'), ('partner', 'NOUN'), ('in', 'ADP'), ('charge', 'NOUN'), ('of', 'ADP'), ('federal', 'ADJ'), ('litigation', 'NOUN'), ('in', 'ADP'), ('the', 'DET'), ('Sacramento', 'NOUN'), ('office', 'NOUN'), ('of', 'ADP'), ('Orrick', 'NOUN'), (',', '.'), ('Herrington', 'NOUN'), ('&', 'CONJ'), ('Sutcliffe', 'NOUN'), (',', '.'), ('he', 'PRON'), ('will', 'VERB'), ('make', 'VERB'), ('out', 'PRT'), ('much', 'ADV'), ('better', 'ADV'), ('.', '.')], [('The', 'DET'), ('top', 'ADJ'), ('money', 'NOUN'), ('funds', 'NOUN'), ('are', 'VERB'), ('currently', 'ADV'), ('yielding', 'VERB'), ('well', 'ADV'), ('over', 'ADP'), ('9', 'NUM'), ('%', 'NOUN'), ('.', '.')], [('Although', 'ADP'), ('*-2', 'X'), ('set', 'VERB'), ('*-1', 'X'), ('in', 'ADP'), ('Japan', 'NOUN'), (',', '.'), ('the', 'DET'), ('novel', 'NOUN'), (\"'s\", 'PRT'), ('texture', 'NOUN'), ('is', 'VERB'), ('almost', 'ADV'), ('entirely', 'ADV'), ('Western', 'ADJ'), (',', '.'), ('especially', 'ADV'), ('American', 'ADJ'), ('.', '.')], [('Bank', 'NOUN'), ('of', 'ADP'), ('New', 'NOUN'), ('England', 'NOUN'), (\"'s\", 'PRT'), ('shares', 'NOUN'), ('are', 'VERB'), ('traded', 'VERB'), ('*-1', 'X'), ('on', 'ADP'), ('the', 'DET'), ('New', 'NOUN'), ('York', 'NOUN'), ('Stock', 'NOUN'), ('Exchange', 'NOUN'), ('.', '.')], [('In', 'ADP'), ('sometimes', 'ADV'), ('amusing', 'ADJ'), (',', '.'), ('more', 'ADV'), ('often', 'ADV'), ('supercilious', 'ADJ'), (',', '.'), ('even', 'ADV'), ('vicious', 'ADJ'), ('passages', 'NOUN'), (',', '.'), ('Mr.', 'NOUN'), ('Katzenstein', 'NOUN'), ('describes', 'VERB'), ('how', 'ADV'), ('Sony', 'NOUN'), ('invades', 'VERB'), ('even', 'ADV'), ('the', 'DET'), ('most', 'ADV'), ('mundane', 'ADJ'), ('aspects', 'NOUN'), ('of', 'ADP'), ('its', 'PRON'), ('workers', 'NOUN'), (\"'\", 'PRT'), ('lives', 'NOUN'), ('--', '.'), ('at', 'ADP'), ('the', 'DET'), ('regimented', 'ADJ'), ('office', 'NOUN'), (',', '.'), ('where', 'ADV'), ('employees', 'NOUN'), ('are', 'VERB'), ('assigned', 'VERB'), ('*-59', 'X'), ('lunch', 'NOUN'), ('partners', 'NOUN'), ('*T*-1', 'X'), ('--', '.'), ('and', 'ADJ'), ('at', 'ADP'), ('``', '.'), ('home', 'NOUN'), (\"''\", '.'), ('in', 'ADP'), ('the', 'DET'), ('austere', 'ADJ'), ('company', 'NOUN'), ('dormitory', 'NOUN'), ('run', 'VERB'), ('*', 'X'), ('by', 'ADP'), ('a', 'DET'), ('prying', 'ADJ'), ('caretaker', 'NOUN'), ('*T*-2', 'X'), ('.', '.')], [('In', 'ADP'), ('1986-87', 'NUM'), ('and', 'CONJ'), ('1987-88', 'NUM'), (',', '.'), ('she', 'PRON'), ('applied', 'VERB'), ('for', 'ADP'), ('*RNR*-1', 'X'), ('and', 'CONJ'), ('won', 'VERB'), ('*RNR*-1', 'X'), ('bonus', 'NOUN'), ('pay', 'NOUN'), ('under', 'ADP'), ('the', 'DET'), ('reform', 'NOUN'), ('law', 'NOUN'), ('.', '.')], [('RMS', 'NOUN'), ('said', 'VERB'), ('0', 'X'), ('it', 'PRON'), ('had', 'VERB'), ('a', 'DET'), ('loss', 'NOUN'), ('of', 'ADP'), ('$', '.'), ('158,666', 'NUM'), ('*U*', 'X'), (',', '.'), ('or', 'CONJ'), ('10', 'NUM'), ('cents', 'NOUN'), ('a', 'DET'), ('share', 'NOUN'), (',', '.'), ('in', 'ADP'), ('the', 'DET'), ('third', 'ADJ'), ('quarter', 'NOUN'), (',', '.'), ('compared', 'VERB'), ('with', 'ADP'), ('a', 'DET'), ('year-earlier', 'ADJ'), ('loss', 'NOUN'), ('of', 'ADP'), ('$', '.'), ('26,956', 'NUM'), ('*U*', 'X'), (',', '.'), ('or', 'CONJ'), ('two', 'NUM'), ('cents', 'NOUN'), ('a', 'DET'), ('share', 'NOUN'), ('.', '.')], [('Tray', 'NOUN'), ('Bon', 'NOUN'), ('?', '.')], [('With', 'ADP'), ('the', 'DET'), ('harvest', 'NOUN'), ('winding', 'VERB'), ('down', 'ADP'), (',', '.'), ('however', 'ADV'), (',', '.'), ('some', 'DET'), ('analysts', 'NOUN'), ('are', 'VERB'), ('speculating', 'VERB'), ('that', 'ADP'), ('prices', 'NOUN'), ('might', 'VERB'), ('jump', 'VERB'), ('in', 'ADP'), ('some', 'DET'), ('regions', 'NOUN'), ('as', 'ADP'), ('U.S.', 'NOUN'), ('exporters', 'NOUN'), ('try', 'VERB'), ('*-1', 'X'), ('to', 'PRT'), ('gather', 'VERB'), ('the', 'DET'), ('corn', 'NOUN'), ('0', 'X'), ('they', 'PRON'), ('are', 'VERB'), ('obligated', 'VERB'), ('*-3', 'X'), ('to', 'PRT'), ('deliver', 'VERB'), ('*T*-2', 'X'), ('.', '.')], [('If', 'ADP'), ('President', 'NOUN'), ('Bush', 'NOUN'), ('loses', 'VERB'), ('at', 'ADP'), ('the', 'DET'), ('court', 'NOUN'), (',', '.'), ('it', 'PRON'), ('might', 'VERB'), ('be', 'VERB'), ('disappointing', 'ADJ'), (',', '.'), ('as', 'ADP'), ('Morrison', 'NOUN'), ('v.', 'CONJ'), ('Olson', 'NOUN'), ('was', 'VERB'), ('*?*', 'X'), ('for', 'ADP'), ('the', 'DET'), ('Reagan', 'NOUN'), ('administration', 'NOUN'), ('.', '.')], [('But', 'CONJ'), ('the', 'DET'), ('exact', 'ADJ'), ('amount', 'NOUN'), ('of', 'ADP'), ('Reliance', 'NOUN'), (\"'s\", 'PRT'), ('current', 'ADJ'), ('holding', 'NOUN'), ('has', 'VERB'), (\"n't\", 'ADV'), ('been', 'VERB'), ('formally', 'ADV'), ('disclosed', 'VERB'), ('*-1', 'X'), ('.', '.')], [('Mary', 'NOUN'), ('Beth', 'NOUN'), ('Marchand', 'NOUN'), (',', '.'), ('a', 'DET'), ('Greenville', 'NOUN'), ('11th', 'ADJ'), ('grader', 'NOUN'), (',', '.'), ('also', 'ADV'), ('says', 'VERB'), ('0', 'X'), ('Mrs.', 'NOUN'), ('Yeargin', 'NOUN'), ('inspired', 'VERB'), ('her', 'PRON'), ('to', 'PRT'), ('go', 'VERB'), ('into', 'ADP'), ('education', 'NOUN'), ('.', '.')], [('NCR', 'NOUN'), ('Corp.', 'NOUN'), ('unveiled', 'VERB'), ('two', 'NUM'), ('models', 'NOUN'), ('of', 'ADP'), ('its', 'PRON'), ('Tower', 'NOUN'), ('line', 'NOUN'), ('of', 'ADP'), ('midrange', 'ADJ'), ('computers', 'NOUN'), ('and', 'CONJ'), ('introduced', 'VERB'), ('advanced', 'VERB'), ('networking', 'NOUN'), ('software', 'NOUN'), ('0', 'X'), ('*', 'X'), ('to', 'PRT'), ('allow', 'VERB'), ('the', 'DET'), ('Tower', 'NOUN'), ('family', 'NOUN'), ('to', 'PRT'), ('operate', 'VERB'), ('as', 'ADP'), ('a', 'DET'), ('central', 'ADJ'), ('hub', 'NOUN'), ('in', 'ADP'), ('a', 'DET'), ('network', 'NOUN'), ('of', 'ADP'), ('computers', 'NOUN'), ('*T*-1', 'X'), ('.', '.')], [('The', 'DET'), ('loan', 'NOUN'), ('may', 'VERB'), ('be', 'VERB'), ('extended', 'VERB'), ('*-1', 'X'), ('by', 'ADP'), ('the', 'DET'), ('McAlpine', 'NOUN'), ('group', 'NOUN'), ('for', 'ADP'), ('an', 'DET'), ('additional', 'ADJ'), ('year', 'NOUN'), ('with', 'ADP'), ('an', 'DET'), ('increase', 'NOUN'), ('in', 'ADP'), ('the', 'DET'), ('conversion', 'NOUN'), ('price', 'NOUN'), ('to', 'PRT'), ('$', '.'), ('2.50', 'NUM'), ('*U*', 'X'), ('a', 'DET'), ('share', 'NOUN'), ('.', '.')], [('Also', 'ADV'), ('in', 'ADP'), ('Beirut', 'NOUN'), (',', '.'), ('a', 'DET'), ('Moslem', 'NOUN'), ('group', 'NOUN'), ('vowed', 'VERB'), ('*-1', 'X'), ('to', 'PRT'), ('kill', 'VERB'), ('Americans', 'NOUN'), ('if', 'ADP'), ('the', 'DET'), ('U.S.', 'NOUN'), ('implements', 'VERB'), ('a', 'DET'), ('policy', 'NOUN'), ('0', 'X'), ('*T*-2', 'X'), ('to', 'PRT'), ('seize', 'VERB'), ('suspects', 'NOUN'), ('abroad', 'ADV'), ('.', '.')], [('How', 'ADV'), ('many', 'ADJ'), ('government', 'NOUN'), ('programs', 'NOUN'), ('and', 'CONJ'), ('policies', 'NOUN'), ('*T*-1', 'X'), ('exist', 'VERB'), ('because', 'ADP'), ('they', 'PRON'), ('line', 'VERB'), ('the', 'DET'), ('pockets', 'NOUN'), ('of', 'ADP'), ('political', 'ADJ'), ('insiders', 'NOUN'), ('?', '.')], [('A', 'DET'), ('survey', 'NOUN'), ('by', 'ADP'), ('the', 'DET'), ('Federal', 'NOUN'), ('Reserve', 'NOUN'), (\"'s\", 'PRT'), ('12', 'NUM'), ('district', 'NOUN'), ('banks', 'NOUN'), ('and', 'CONJ'), ('the', 'DET'), ('latest', 'ADJ'), ('report', 'NOUN'), ('by', 'ADP'), ('the', 'DET'), ('National', 'NOUN'), ('Association', 'NOUN'), ('of', 'ADP'), ('Purchasing', 'NOUN'), ('Management', 'NOUN'), ('blurred', 'VERB'), ('that', 'DET'), ('picture', 'NOUN'), ('of', 'ADP'), ('the', 'DET'), ('economy', 'NOUN'), ('.', '.')], [('A', 'DET'), ('lack', 'NOUN'), ('of', 'ADP'), ('enthusiasm', 'NOUN'), ('with', 'ADP'), ('the', 'DET'), ('latest', 'ADJ'), ('economic', 'ADJ'), ('data', 'NOUN'), ('hampered', 'VERB'), ('the', 'DET'), ('stock', 'NOUN'), ('market', 'NOUN'), (\"'s\", 'PRT'), ('bid', 'NOUN'), ('*', 'X'), ('to', 'PRT'), ('extend', 'VERB'), ('Tuesday', 'NOUN'), (\"'s\", 'PRT'), ('sharp', 'ADJ'), ('gains', 'NOUN'), (',', '.'), ('as', 'ADP'), ('prices', 'NOUN'), ('closed', 'VERB'), ('slightly', 'ADV'), ('higher', 'ADJ'), ('in', 'ADP'), ('sluggish', 'ADJ'), ('trading', 'NOUN'), ('.', '.')], [('The', 'DET'), ('vicar', 'NOUN'), (',', '.'), ('W.D.', 'NOUN'), ('Jones', 'NOUN'), (',', '.'), ('refuses', 'VERB'), ('*-1', 'X'), ('to', 'PRT'), ('talk', 'VERB'), ('about', 'ADP'), ('it', 'PRON'), (',', '.'), ('*-1', 'X'), ('saying', 'VERB'), ('0', 'X'), ('it', 'PRON'), ('would', 'VERB'), ('``', '.'), ('reopen', 'VERB'), ('the', 'DET'), ('wound', 'NOUN'), ('.', '.'), (\"''\", '.')], [('And', 'CONJ'), ('then', 'ADV'), ('this', 'DET'), ('commercial', 'NOUN'), (',', '.'), ('produced', 'VERB'), ('*', 'X'), ('by', 'ADP'), ('Bob', 'NOUN'), ('Squier', 'NOUN'), (',', '.'), ('gets', 'VERB'), ('down', 'ADV'), ('to', 'PRT'), ('its', 'PRON'), ('own', 'ADJ'), ('mean', 'ADJ'), ('and', 'CONJ'), ('dirty', 'ADJ'), ('business', 'NOUN'), ('.', '.')], [('A', 'DET'), ('player', 'NOUN'), (\"'s\", 'PRT'), ('commitment', 'NOUN'), ('to', 'PRT'), ('practice', 'NOUN'), ('and', 'CONJ'), ('team', 'NOUN'), ('image', 'NOUN'), ('is', 'VERB'), ('as', 'ADV'), ('important', 'ADJ'), ('as', 'ADP'), ('his', 'PRON'), ('batting', 'NOUN'), ('average', 'NOUN'), ('.', '.')], [('The', 'DET'), ('company', 'NOUN'), ('said', 'VERB'), ('0', 'X'), ('local', 'ADJ'), ('authorities', 'NOUN'), ('held', 'VERB'), ('hearings', 'NOUN'), ('on', 'ADP'), ('the', 'DET'), ('allegations', 'NOUN'), ('last', 'ADJ'), ('spring', 'NOUN'), ('and', 'CONJ'), ('had', 'VERB'), ('returned', 'VERB'), ('the', 'DET'), ('plant', 'NOUN'), ('to', 'PRT'), ('``', '.'), ('routine', 'ADJ'), ('inspection', 'NOUN'), (\"''\", '.'), ('in', 'ADP'), ('August', 'NOUN'), ('.', '.')], [('The', 'DET'), ('Kearny', 'NOUN'), (',', '.'), ('N.J.-based', 'ADJ'), ('maker', 'NOUN'), ('of', 'ADP'), ('hair', 'NOUN'), ('accessories', 'NOUN'), ('and', 'CONJ'), ('other', 'ADJ'), ('cosmetic', 'NOUN'), ('products', 'NOUN'), ('said', 'VERB'), ('0', 'X'), ('it', 'PRON'), ('cut', 'VERB'), ('the', 'DET'), ('dividend', 'NOUN'), ('due', 'ADJ'), ('to', 'PRT'), ('its', 'PRON'), ('third-quarter', 'NOUN'), ('loss', 'NOUN'), ('of', 'ADP'), ('$', '.'), ('992,000', 'NUM'), ('*U*', 'X'), (',', '.'), ('or', 'CONJ'), ('15', 'NUM'), ('cents', 'NOUN'), ('a', 'DET'), ('share', 'NOUN'), ('.', '.')], [('In', 'ADP'), ('the', 'DET'), ('past', 'NOUN'), (',', '.'), ('they', 'PRON'), ('say', 'VERB'), ('0', 'X'), ('*T*-1', 'X'), (',', '.'), ('the', 'DET'), ('strongest', 'ADJ'), ('dividend', 'NOUN'), ('growth', 'NOUN'), ('has', 'VERB'), ('often', 'ADV'), ('come', 'VERB'), ('at', 'ADP'), ('times', 'NOUN'), ('when', 'ADV'), ('the', 'DET'), ('stock-market', 'NOUN'), ('party', 'NOUN'), ('was', 'VERB'), ('almost', 'ADV'), ('over', 'ADJ'), ('*T*-2', 'X'), ('.', '.')], [('The', 'DET'), ('real', 'ADJ'), ('battle', 'NOUN'), ('is', 'VERB'), ('over', 'ADP'), ('who', 'PRON'), ('*T*-1', 'X'), ('will', 'VERB'), ('control', 'VERB'), ('that', 'DET'), ('market', 'NOUN'), ('and', 'CONJ'), ('reap', 'VERB'), ('its', 'PRON'), ('huge', 'ADJ'), ('rewards', 'NOUN'), ('.', '.')], [('The', 'DET'), ('analyst', 'NOUN'), ('noted', 'VERB'), ('that', 'ADP'), ('also', 'ADV'), ('inherent', 'ADJ'), ('in', 'ADP'), ('all', 'DET'), ('metal', 'NOUN'), ('markets', 'NOUN'), ('was', 'VERB'), ('*T*-1', 'X'), ('a', 'DET'), ('sympathetic', 'ADJ'), ('reaction', 'NOUN'), ('to', 'PRT'), ('stocks', 'NOUN'), ('.', '.')], [('His', 'PRON'), ('duties', 'NOUN'), ('as', 'ADP'), ('chief', 'ADJ'), ('executive', 'NOUN'), ('will', 'VERB'), ('be', 'VERB'), ('assumed', 'VERB'), ('*-121', 'X'), ('by', 'ADP'), ('Chairman', 'NOUN'), ('Jay', 'NOUN'), ('B.', 'NOUN'), ('Langner', 'NOUN'), ('.', '.')], [('Among', 'ADP'), ('the', 'DET'), ('lot', 'NOUN'), ('of', 'ADP'), ('them', 'PRON'), (',', '.'), ('not', 'ADV'), ('one', 'NUM'), ('is', 'VERB'), ('wrestling', 'VERB'), ('with', 'ADP'), ('good', 'ADJ'), ('and', 'CONJ'), ('evil', 'ADJ'), (',', '.'), ('or', 'CONJ'), ('especially', 'ADV'), ('intelligent', 'ADJ'), ('or', 'CONJ'), ('even', 'ADV'), ('temporarily', 'ADV'), ('insane', 'ADJ'), ('.', '.')], [('Any', 'DET'), ('question', 'NOUN'), ('as', 'ADP'), ('to', 'PRT'), ('why', 'ADV'), ('an', 'DET'), ('author', 'NOUN'), ('would', 'VERB'), ('believe', 'VERB'), ('0', 'X'), ('this', 'DET'), ('plaintive', 'ADJ'), (',', '.'), ('high-minded', 'ADJ'), ('note', 'NOUN'), ('of', 'ADP'), ('assurance', 'NOUN'), ('is', 'VERB'), ('necessary', 'ADJ'), ('*T*-2', 'X'), ('is', 'VERB'), ('answered', 'VERB'), ('*-1', 'X'), ('by', 'ADP'), ('*', 'X'), ('reading', 'VERB'), ('this', 'DET'), ('book', 'NOUN'), ('about', 'ADP'), ('sticky', 'ADJ'), ('fingers', 'NOUN'), ('and', 'CONJ'), ('sweaty', 'ADJ'), ('scammers', 'NOUN'), ('.', '.')]]\n"
     ]
    }
   ],
   "source": [
    "print(train_set[:40])"
   ]
  },
  {
   "cell_type": "code",
   "execution_count": 8,
   "metadata": {},
   "outputs": [
    {
     "data": {
      "text/plain": [
       "['But',\n",
       " 'the',\n",
       " 'Army',\n",
       " 'Corps',\n",
       " 'of',\n",
       " 'Engineers',\n",
       " 'expects',\n",
       " 'the',\n",
       " 'river',\n",
       " 'level']"
      ]
     },
     "execution_count": 8,
     "metadata": {},
     "output_type": "execute_result"
    }
   ],
   "source": [
    "# View the first 10 tokens in the training data set\n",
    "tokens = [pair[0] for pair in train_tagged_words]\n",
    "tokens[:10]"
   ]
  },
  {
   "cell_type": "code",
   "execution_count": 9,
   "metadata": {},
   "outputs": [
    {
     "name": "stdout",
     "output_type": "stream",
     "text": [
      "12104\n"
     ]
    }
   ],
   "source": [
    "# vocabulary\n",
    "V = set(tokens)\n",
    "print(len(V))"
   ]
  },
  {
   "cell_type": "code",
   "execution_count": 10,
   "metadata": {},
   "outputs": [
    {
     "name": "stdout",
     "output_type": "stream",
     "text": [
      "12\n",
      "{'NUM', 'VERB', 'ADP', 'NOUN', '.', 'PRON', 'ADV', 'PRT', 'CONJ', 'DET', 'X', 'ADJ'}\n"
     ]
    }
   ],
   "source": [
    "# number of pos tags in the training corpus\n",
    "T = set([pair[1] for pair in train_tagged_words])\n",
    "print(len(T))\n",
    "print(T)"
   ]
  },
  {
   "cell_type": "markdown",
   "metadata": {},
   "source": [
    "### Build the vanilla Viterbi based POS tagger"
   ]
  },
  {
   "cell_type": "code",
   "execution_count": null,
   "metadata": {},
   "outputs": [],
   "source": [
    "# Create numpy array of no of pos tags by total vocabulary\n",
    "t = len(T)\n",
    "v = len(V)\n",
    "w_given_t = np.zeros((t, v))"
   ]
  },
  {
   "cell_type": "code",
   "execution_count": 11,
   "metadata": {},
   "outputs": [],
   "source": [
    "# compute word given tag: Emission Probability\n",
    "def word_given_tag(word, tag, train_bag = train_tagged_words):\n",
    "    tag_list = [pair for pair in train_bag if pair[1]==tag]\n",
    "    count_tag = len(tag_list)\n",
    "    w_given_tag_list = [pair[0] for pair in tag_list if pair[0]==word]\n",
    "    count_w_given_tag = len(w_given_tag_list)\n",
    "    \n",
    "    return (count_w_given_tag, count_tag)"
   ]
  },
  {
   "cell_type": "code",
   "execution_count": 12,
   "metadata": {},
   "outputs": [],
   "source": [
    "# compute tag given tag: tag2(t2) given tag1 (t1), i.e. Transition Probability\n",
    "\n",
    "def t2_given_t1(t2, t1, train_bag = train_tagged_words):\n",
    "    tags = [pair[1] for pair in train_bag]\n",
    "    count_t1 = len([t for t in tags if t==t1])\n",
    "    count_t2_t1 = 0\n",
    "    for index in range(len(tags)-1):\n",
    "        if tags[index]==t1 and tags[index+1] == t2:\n",
    "            count_t2_t1 += 1\n",
    "    return (count_t2_t1, count_t1)"
   ]
  },
  {
   "cell_type": "code",
   "execution_count": 13,
   "metadata": {},
   "outputs": [],
   "source": [
    "# creating t x t transition matrix of tags\n",
    "# each column is t2, each row is t1\n",
    "# thus M(i, j) represents P(tj given ti)\n",
    "\n",
    "tags_matrix = np.zeros((len(T), len(T)), dtype='float32')\n",
    "for i, t1 in enumerate(list(T)):\n",
    "    for j, t2 in enumerate(list(T)): \n",
    "        tags_matrix[i, j] = t2_given_t1(t2, t1)[0]/t2_given_t1(t2, t1)[1]"
   ]
  },
  {
   "cell_type": "code",
   "execution_count": 14,
   "metadata": {},
   "outputs": [
    {
     "data": {
      "text/plain": [
       "array([[1.83293983e-01, 1.80047229e-02, 3.63046043e-02, 3.54191273e-01,\n",
       "        1.18063755e-01, 1.18063751e-03, 2.65643443e-03, 2.77449824e-02,\n",
       "        1.32821724e-02, 3.24675324e-03, 2.08382532e-01, 3.36481705e-02],\n",
       "       [2.34308317e-02, 1.69601992e-01, 9.04647410e-02, 1.09938711e-01,\n",
       "        3.50686647e-02, 3.53790037e-02, 8.13872293e-02, 3.11893858e-02,\n",
       "        5.27581666e-03, 1.33990228e-01, 2.19101563e-01, 6.51718527e-02],\n",
       "       [6.23600893e-02, 8.10148194e-03, 1.66293569e-02, 3.25125247e-01,\n",
       "        3.93348262e-02, 6.82230070e-02, 1.37511995e-02, 1.49237819e-03,\n",
       "        6.39590668e-04, 3.24272454e-01, 3.48576903e-02, 1.05212666e-01],\n",
       "       [9.55703296e-03, 1.46044552e-01, 1.76968634e-01, 2.64471829e-01,\n",
       "        2.40524724e-01, 4.65133181e-03, 1.68610774e-02, 4.34608832e-02,\n",
       "        4.26614322e-02, 1.35542713e-02, 2.90708244e-02, 1.21734077e-02],\n",
       "       [8.08705017e-02, 8.81246626e-02, 9.20652002e-02, 2.23893970e-01,\n",
       "        9.36772376e-02, 6.50188103e-02, 5.23016304e-02, 2.32849712e-03,\n",
       "        5.75855263e-02, 1.73114806e-01, 2.71359477e-02, 4.37936597e-02],\n",
       "       [6.96864119e-03, 4.88579184e-01, 2.24545095e-02, 2.09446386e-01,\n",
       "        4.06504050e-02, 7.35578779e-03, 3.44560593e-02, 1.23886950e-02,\n",
       "        4.64576064e-03, 1.00658145e-02, 9.09794793e-02, 7.20092952e-02],\n",
       "       [3.25797871e-02, 3.45412225e-01, 1.15026593e-01, 3.19148935e-02,\n",
       "        1.36303186e-01, 1.52925532e-02, 7.97872320e-02, 1.46276597e-02,\n",
       "        6.31648954e-03, 6.94813803e-02, 2.26063821e-02, 1.30651593e-01],\n",
       "       [5.74975498e-02, 4.04769689e-01, 2.02548187e-02, 2.44037896e-01,\n",
       "        4.21430916e-02, 1.79679841e-02, 1.01274094e-02, 1.96014368e-03,\n",
       "        1.96014368e-03, 1.00947402e-01, 1.37210060e-02, 8.46128687e-02],\n",
       "       [4.27708030e-02, 1.57136217e-01, 5.25337048e-02, 3.52859139e-01,\n",
       "        3.39377038e-02, 5.76476045e-02, 5.53231053e-02, 4.64900024e-03,\n",
       "        4.64900048e-04, 1.15760110e-01, 7.90330116e-03, 1.19014412e-01],\n",
       "       [2.25491375e-02, 3.93102616e-02, 9.16435570e-03, 6.39213800e-01,\n",
       "        1.74846258e-02, 3.49692511e-03, 1.25406971e-02, 2.41167247e-04,\n",
       "        4.82334493e-04, 5.30567952e-03, 4.61835265e-02, 2.04027489e-01],\n",
       "       [2.85261497e-03, 2.03486532e-01, 1.43740088e-01, 6.22820929e-02,\n",
       "        1.63232967e-01, 5.57844676e-02, 2.58320123e-02, 1.85578451e-01,\n",
       "        1.06180664e-02, 5.43581620e-02, 7.52773359e-02, 1.69572104e-02],\n",
       "       [2.06679888e-02, 1.24007938e-02, 7.87037015e-02, 7.00562179e-01,\n",
       "        6.41534403e-02, 6.61375641e-04, 4.46428591e-03, 1.05820103e-02,\n",
       "        1.73611119e-02, 4.46428591e-03, 2.14947090e-02, 6.44841269e-02]],\n",
       "      dtype=float32)"
      ]
     },
     "execution_count": 14,
     "metadata": {},
     "output_type": "execute_result"
    }
   ],
   "source": [
    "#view the matrix\n",
    "tags_matrix"
   ]
  },
  {
   "cell_type": "code",
   "execution_count": 15,
   "metadata": {},
   "outputs": [],
   "source": [
    "#Store the data set into a data frame\n",
    "df_tags = pd.DataFrame(tags_matrix, columns = list(T), index=list(T))"
   ]
  },
  {
   "cell_type": "code",
   "execution_count": 16,
   "metadata": {},
   "outputs": [
    {
     "data": {
      "text/html": [
       "<div>\n",
       "<style scoped>\n",
       "    .dataframe tbody tr th:only-of-type {\n",
       "        vertical-align: middle;\n",
       "    }\n",
       "\n",
       "    .dataframe tbody tr th {\n",
       "        vertical-align: top;\n",
       "    }\n",
       "\n",
       "    .dataframe thead th {\n",
       "        text-align: right;\n",
       "    }\n",
       "</style>\n",
       "<table border=\"1\" class=\"dataframe\">\n",
       "  <thead>\n",
       "    <tr style=\"text-align: right;\">\n",
       "      <th></th>\n",
       "      <th>NUM</th>\n",
       "      <th>VERB</th>\n",
       "      <th>ADP</th>\n",
       "      <th>NOUN</th>\n",
       "      <th>.</th>\n",
       "      <th>PRON</th>\n",
       "      <th>ADV</th>\n",
       "      <th>PRT</th>\n",
       "      <th>CONJ</th>\n",
       "      <th>DET</th>\n",
       "      <th>X</th>\n",
       "      <th>ADJ</th>\n",
       "    </tr>\n",
       "  </thead>\n",
       "  <tbody>\n",
       "    <tr>\n",
       "      <td>NUM</td>\n",
       "      <td>0.183294</td>\n",
       "      <td>0.018005</td>\n",
       "      <td>0.036305</td>\n",
       "      <td>0.354191</td>\n",
       "      <td>0.118064</td>\n",
       "      <td>0.001181</td>\n",
       "      <td>0.002656</td>\n",
       "      <td>0.027745</td>\n",
       "      <td>0.013282</td>\n",
       "      <td>0.003247</td>\n",
       "      <td>0.208383</td>\n",
       "      <td>0.033648</td>\n",
       "    </tr>\n",
       "    <tr>\n",
       "      <td>VERB</td>\n",
       "      <td>0.023431</td>\n",
       "      <td>0.169602</td>\n",
       "      <td>0.090465</td>\n",
       "      <td>0.109939</td>\n",
       "      <td>0.035069</td>\n",
       "      <td>0.035379</td>\n",
       "      <td>0.081387</td>\n",
       "      <td>0.031189</td>\n",
       "      <td>0.005276</td>\n",
       "      <td>0.133990</td>\n",
       "      <td>0.219102</td>\n",
       "      <td>0.065172</td>\n",
       "    </tr>\n",
       "    <tr>\n",
       "      <td>ADP</td>\n",
       "      <td>0.062360</td>\n",
       "      <td>0.008101</td>\n",
       "      <td>0.016629</td>\n",
       "      <td>0.325125</td>\n",
       "      <td>0.039335</td>\n",
       "      <td>0.068223</td>\n",
       "      <td>0.013751</td>\n",
       "      <td>0.001492</td>\n",
       "      <td>0.000640</td>\n",
       "      <td>0.324272</td>\n",
       "      <td>0.034858</td>\n",
       "      <td>0.105213</td>\n",
       "    </tr>\n",
       "    <tr>\n",
       "      <td>NOUN</td>\n",
       "      <td>0.009557</td>\n",
       "      <td>0.146045</td>\n",
       "      <td>0.176969</td>\n",
       "      <td>0.264472</td>\n",
       "      <td>0.240525</td>\n",
       "      <td>0.004651</td>\n",
       "      <td>0.016861</td>\n",
       "      <td>0.043461</td>\n",
       "      <td>0.042661</td>\n",
       "      <td>0.013554</td>\n",
       "      <td>0.029071</td>\n",
       "      <td>0.012173</td>\n",
       "    </tr>\n",
       "    <tr>\n",
       "      <td>.</td>\n",
       "      <td>0.080871</td>\n",
       "      <td>0.088125</td>\n",
       "      <td>0.092065</td>\n",
       "      <td>0.223894</td>\n",
       "      <td>0.093677</td>\n",
       "      <td>0.065019</td>\n",
       "      <td>0.052302</td>\n",
       "      <td>0.002328</td>\n",
       "      <td>0.057586</td>\n",
       "      <td>0.173115</td>\n",
       "      <td>0.027136</td>\n",
       "      <td>0.043794</td>\n",
       "    </tr>\n",
       "    <tr>\n",
       "      <td>PRON</td>\n",
       "      <td>0.006969</td>\n",
       "      <td>0.488579</td>\n",
       "      <td>0.022455</td>\n",
       "      <td>0.209446</td>\n",
       "      <td>0.040650</td>\n",
       "      <td>0.007356</td>\n",
       "      <td>0.034456</td>\n",
       "      <td>0.012389</td>\n",
       "      <td>0.004646</td>\n",
       "      <td>0.010066</td>\n",
       "      <td>0.090979</td>\n",
       "      <td>0.072009</td>\n",
       "    </tr>\n",
       "    <tr>\n",
       "      <td>ADV</td>\n",
       "      <td>0.032580</td>\n",
       "      <td>0.345412</td>\n",
       "      <td>0.115027</td>\n",
       "      <td>0.031915</td>\n",
       "      <td>0.136303</td>\n",
       "      <td>0.015293</td>\n",
       "      <td>0.079787</td>\n",
       "      <td>0.014628</td>\n",
       "      <td>0.006316</td>\n",
       "      <td>0.069481</td>\n",
       "      <td>0.022606</td>\n",
       "      <td>0.130652</td>\n",
       "    </tr>\n",
       "    <tr>\n",
       "      <td>PRT</td>\n",
       "      <td>0.057498</td>\n",
       "      <td>0.404770</td>\n",
       "      <td>0.020255</td>\n",
       "      <td>0.244038</td>\n",
       "      <td>0.042143</td>\n",
       "      <td>0.017968</td>\n",
       "      <td>0.010127</td>\n",
       "      <td>0.001960</td>\n",
       "      <td>0.001960</td>\n",
       "      <td>0.100947</td>\n",
       "      <td>0.013721</td>\n",
       "      <td>0.084613</td>\n",
       "    </tr>\n",
       "    <tr>\n",
       "      <td>CONJ</td>\n",
       "      <td>0.042771</td>\n",
       "      <td>0.157136</td>\n",
       "      <td>0.052534</td>\n",
       "      <td>0.352859</td>\n",
       "      <td>0.033938</td>\n",
       "      <td>0.057648</td>\n",
       "      <td>0.055323</td>\n",
       "      <td>0.004649</td>\n",
       "      <td>0.000465</td>\n",
       "      <td>0.115760</td>\n",
       "      <td>0.007903</td>\n",
       "      <td>0.119014</td>\n",
       "    </tr>\n",
       "    <tr>\n",
       "      <td>DET</td>\n",
       "      <td>0.022549</td>\n",
       "      <td>0.039310</td>\n",
       "      <td>0.009164</td>\n",
       "      <td>0.639214</td>\n",
       "      <td>0.017485</td>\n",
       "      <td>0.003497</td>\n",
       "      <td>0.012541</td>\n",
       "      <td>0.000241</td>\n",
       "      <td>0.000482</td>\n",
       "      <td>0.005306</td>\n",
       "      <td>0.046184</td>\n",
       "      <td>0.204027</td>\n",
       "    </tr>\n",
       "    <tr>\n",
       "      <td>X</td>\n",
       "      <td>0.002853</td>\n",
       "      <td>0.203487</td>\n",
       "      <td>0.143740</td>\n",
       "      <td>0.062282</td>\n",
       "      <td>0.163233</td>\n",
       "      <td>0.055784</td>\n",
       "      <td>0.025832</td>\n",
       "      <td>0.185578</td>\n",
       "      <td>0.010618</td>\n",
       "      <td>0.054358</td>\n",
       "      <td>0.075277</td>\n",
       "      <td>0.016957</td>\n",
       "    </tr>\n",
       "    <tr>\n",
       "      <td>ADJ</td>\n",
       "      <td>0.020668</td>\n",
       "      <td>0.012401</td>\n",
       "      <td>0.078704</td>\n",
       "      <td>0.700562</td>\n",
       "      <td>0.064153</td>\n",
       "      <td>0.000661</td>\n",
       "      <td>0.004464</td>\n",
       "      <td>0.010582</td>\n",
       "      <td>0.017361</td>\n",
       "      <td>0.004464</td>\n",
       "      <td>0.021495</td>\n",
       "      <td>0.064484</td>\n",
       "    </tr>\n",
       "  </tbody>\n",
       "</table>\n",
       "</div>"
      ],
      "text/plain": [
       "           NUM      VERB       ADP      NOUN         .      PRON       ADV  \\\n",
       "NUM   0.183294  0.018005  0.036305  0.354191  0.118064  0.001181  0.002656   \n",
       "VERB  0.023431  0.169602  0.090465  0.109939  0.035069  0.035379  0.081387   \n",
       "ADP   0.062360  0.008101  0.016629  0.325125  0.039335  0.068223  0.013751   \n",
       "NOUN  0.009557  0.146045  0.176969  0.264472  0.240525  0.004651  0.016861   \n",
       ".     0.080871  0.088125  0.092065  0.223894  0.093677  0.065019  0.052302   \n",
       "PRON  0.006969  0.488579  0.022455  0.209446  0.040650  0.007356  0.034456   \n",
       "ADV   0.032580  0.345412  0.115027  0.031915  0.136303  0.015293  0.079787   \n",
       "PRT   0.057498  0.404770  0.020255  0.244038  0.042143  0.017968  0.010127   \n",
       "CONJ  0.042771  0.157136  0.052534  0.352859  0.033938  0.057648  0.055323   \n",
       "DET   0.022549  0.039310  0.009164  0.639214  0.017485  0.003497  0.012541   \n",
       "X     0.002853  0.203487  0.143740  0.062282  0.163233  0.055784  0.025832   \n",
       "ADJ   0.020668  0.012401  0.078704  0.700562  0.064153  0.000661  0.004464   \n",
       "\n",
       "           PRT      CONJ       DET         X       ADJ  \n",
       "NUM   0.027745  0.013282  0.003247  0.208383  0.033648  \n",
       "VERB  0.031189  0.005276  0.133990  0.219102  0.065172  \n",
       "ADP   0.001492  0.000640  0.324272  0.034858  0.105213  \n",
       "NOUN  0.043461  0.042661  0.013554  0.029071  0.012173  \n",
       ".     0.002328  0.057586  0.173115  0.027136  0.043794  \n",
       "PRON  0.012389  0.004646  0.010066  0.090979  0.072009  \n",
       "ADV   0.014628  0.006316  0.069481  0.022606  0.130652  \n",
       "PRT   0.001960  0.001960  0.100947  0.013721  0.084613  \n",
       "CONJ  0.004649  0.000465  0.115760  0.007903  0.119014  \n",
       "DET   0.000241  0.000482  0.005306  0.046184  0.204027  \n",
       "X     0.185578  0.010618  0.054358  0.075277  0.016957  \n",
       "ADJ   0.010582  0.017361  0.004464  0.021495  0.064484  "
      ]
     },
     "execution_count": 16,
     "metadata": {},
     "output_type": "execute_result"
    }
   ],
   "source": [
    "#view the data frame\n",
    "df_tags"
   ]
  },
  {
   "cell_type": "code",
   "execution_count": 17,
   "metadata": {},
   "outputs": [
    {
     "data": {
      "text/plain": [
       "NUM     0.080871\n",
       "VERB    0.088125\n",
       "ADP     0.092065\n",
       "NOUN    0.223894\n",
       ".       0.093677\n",
       "PRON    0.065019\n",
       "ADV     0.052302\n",
       "PRT     0.002328\n",
       "CONJ    0.057586\n",
       "DET     0.173115\n",
       "X       0.027136\n",
       "ADJ     0.043794\n",
       "Name: ., dtype: float32"
      ]
     },
     "execution_count": 17,
     "metadata": {},
     "output_type": "execute_result"
    }
   ],
   "source": [
    "df_tags.loc['.', :]"
   ]
  },
  {
   "cell_type": "code",
   "execution_count": 18,
   "metadata": {},
   "outputs": [
    {
     "data": {
      "image/png": "[encoded data removed]",
      "text/plain": [
       "<Figure size 1296x864 with 2 Axes>"
      ]
     },
     "metadata": {
      "needs_background": "light"
     },
     "output_type": "display_data"
    }
   ],
   "source": [
    "# View heatmap of tags matrix\n",
    "# T(i, j) means P(tag j given tag i)\n",
    "plt.figure(figsize=(18, 12))\n",
    "sns.heatmap(df_tags)\n",
    "plt.show()"
   ]
  },
  {
   "cell_type": "code",
   "execution_count": 20,
   "metadata": {},
   "outputs": [
    {
     "data": {
      "image/png": "[encoded data removed]",
      "text/plain": [
       "<Figure size 1296x864 with 2 Axes>"
      ]
     },
     "metadata": {
      "needs_background": "light"
     },
     "output_type": "display_data"
    }
   ],
   "source": [
    "# frequent tags\n",
    "# filter the df to get P(t2, t1) > 0.5\n",
    "tags_frequent = df_tags[df_tags>0.5]\n",
    "plt.figure(figsize=(18, 12))\n",
    "sns.heatmap(tags_frequent)\n",
    "plt.show()"
   ]
  },
  {
   "cell_type": "markdown",
   "metadata": {},
   "source": [
    "We can observe that mostly Noun are followed by Adjectives and Determinents as they are highly correleted in the heatmap."
   ]
  },
  {
   "cell_type": "code",
   "execution_count": 21,
   "metadata": {},
   "outputs": [
    {
     "data": {
      "text/plain": [
       "95797"
      ]
     },
     "execution_count": 21,
     "metadata": {},
     "output_type": "execute_result"
    }
   ],
   "source": [
    "#check the total lenth of tagged words in train set\n",
    "len(train_tagged_words)"
   ]
  },
  {
   "cell_type": "code",
   "execution_count": 22,
   "metadata": {},
   "outputs": [],
   "source": [
    "# Viterbi Heuristic\n",
    "def Viterbi(words, train_bag = train_tagged_words):\n",
    "    state = []\n",
    "    T = list(set([pair[1] for pair in train_bag]))\n",
    "    \n",
    "    for key, word in enumerate(words):\n",
    "        #initialise list of probability column for a given observation\n",
    "        p = [] \n",
    "        for tag in T:\n",
    "            if key == 0:\n",
    "                transition_p = df_tags.loc['.', tag]\n",
    "            else:\n",
    "                transition_p = df_tags.loc[state[-1], tag]\n",
    "                \n",
    "            # compute emission and state probabilities\n",
    "            emission_p = word_given_tag(words[key], tag)[0]/word_given_tag(words[key], tag)[1]\n",
    "            state_probability = emission_p * transition_p    \n",
    "            p.append(state_probability)\n",
    "            \n",
    "        pmax = max(p)\n",
    "        # getting state for which probability is maximum\n",
    "        state_max = T[p.index(pmax)] \n",
    "        state.append(state_max)\n",
    "    return list(zip(words, state))\n"
   ]
  },
  {
   "cell_type": "code",
   "execution_count": 23,
   "metadata": {},
   "outputs": [
    {
     "data": {
      "text/plain": [
       "[[('Without', 'ADP'),\n",
       "  ('the', 'DET'),\n",
       "  ('Cray-3', 'NOUN'),\n",
       "  ('research', 'NOUN'),\n",
       "  ('and', 'CONJ'),\n",
       "  ('development', 'NOUN'),\n",
       "  ('expenses', 'NOUN'),\n",
       "  (',', '.'),\n",
       "  ('the', 'DET'),\n",
       "  ('company', 'NOUN'),\n",
       "  ('would', 'VERB'),\n",
       "  ('have', 'VERB'),\n",
       "  ('been', 'VERB'),\n",
       "  ('able', 'ADJ'),\n",
       "  ('*-2', 'X'),\n",
       "  ('to', 'PRT'),\n",
       "  ('report', 'VERB'),\n",
       "  ('a', 'DET'),\n",
       "  ('profit', 'NOUN'),\n",
       "  ('of', 'ADP'),\n",
       "  ('$', '.'),\n",
       "  ('19.3', 'NUM'),\n",
       "  ('million', 'NUM'),\n",
       "  ('*U*', 'X'),\n",
       "  ('*ICH*-3', 'X'),\n",
       "  ('for', 'ADP'),\n",
       "  ('the', 'DET'),\n",
       "  ('first', 'ADJ'),\n",
       "  ('half', 'DET'),\n",
       "  ('of', 'ADP'),\n",
       "  ('1989', 'NUM'),\n",
       "  ('rather', 'ADV'),\n",
       "  ('than', 'ADP'),\n",
       "  ('the', 'DET'),\n",
       "  ('$', '.'),\n",
       "  ('5.9', 'NUM'),\n",
       "  ('million', 'NUM'),\n",
       "  ('*U*', 'X'),\n",
       "  ('0', 'X'),\n",
       "  ('it', 'PRON'),\n",
       "  ('posted', 'VERB'),\n",
       "  ('*T*-1', 'X'),\n",
       "  ('.', '.')],\n",
       " [('But', 'CONJ'),\n",
       "  ('the', 'DET'),\n",
       "  ('growing', 'VERB'),\n",
       "  ('controversy', 'NOUN'),\n",
       "  ('comes', 'VERB'),\n",
       "  ('as', 'ADP'),\n",
       "  ('many', 'ADJ'),\n",
       "  ('practices', 'NOUN'),\n",
       "  ('historically', 'ADV'),\n",
       "  ('accepted', 'VERB'),\n",
       "  ('*', 'X'),\n",
       "  ('as', 'ADP'),\n",
       "  ('normal', 'ADJ'),\n",
       "  ('here', 'ADV'),\n",
       "  ('--', '.'),\n",
       "  ('such', 'ADJ'),\n",
       "  ('as', 'ADP'),\n",
       "  ('politicians', 'NOUN'),\n",
       "  ('accepting', 'VERB'),\n",
       "  ('substantial', 'ADJ'),\n",
       "  ('gifts', 'NOUN'),\n",
       "  ('from', 'ADP'),\n",
       "  ('businessmen', 'NOUN'),\n",
       "  ('or', 'CONJ'),\n",
       "  ('having', 'VERB'),\n",
       "  ('extramarital', 'ADJ'),\n",
       "  ('affairs', 'NOUN'),\n",
       "  ('--', '.'),\n",
       "  ('are', 'ADP'),\n",
       "  ('coming', 'VERB'),\n",
       "  ('under', 'ADP'),\n",
       "  ('close', 'ADJ'),\n",
       "  ('ethical', 'ADJ'),\n",
       "  ('scrutiny', 'NOUN'),\n",
       "  ('.', '.')],\n",
       " [(\"Dunkin'\", 'NOUN'),\n",
       "  ('has', 'VERB'),\n",
       "  ('set', 'VERB'),\n",
       "  ('Nov.', 'NOUN'),\n",
       "  ('10', 'NUM'),\n",
       "  ('as', 'ADP'),\n",
       "  ('the', 'DET'),\n",
       "  ('deadline', 'NOUN'),\n",
       "  ('for', 'ADP'),\n",
       "  ('the', 'DET'),\n",
       "  ('receipt', 'NOUN'),\n",
       "  ('of', 'ADP'),\n",
       "  ('any', 'DET'),\n",
       "  ('competing', 'VERB'),\n",
       "  ('bids', 'NOUN'),\n",
       "  ('.', '.')],\n",
       " [('R.P.', 'NOUN'),\n",
       "  ('Scherer', 'NOUN'),\n",
       "  ('Corp.', 'NOUN'),\n",
       "  ('said', 'VERB'),\n",
       "  ('0', 'X'),\n",
       "  ('it', 'PRON'),\n",
       "  ('completed', 'VERB'),\n",
       "  ('the', 'DET'),\n",
       "  ('$', '.'),\n",
       "  ('10.2', 'NUM'),\n",
       "  ('million', 'NUM'),\n",
       "  ('*U*', 'X'),\n",
       "  ('sale', 'NOUN'),\n",
       "  ('of', 'ADP'),\n",
       "  ('its', 'PRON'),\n",
       "  ('Southern', 'NOUN'),\n",
       "  ('Optical', 'NOUN'),\n",
       "  ('subsidiary', 'NOUN'),\n",
       "  ('to', 'PRT'),\n",
       "  ('a', 'DET'),\n",
       "  ('group', 'NOUN'),\n",
       "  ('led', 'VERB'),\n",
       "  ('*', 'X'),\n",
       "  ('by', 'ADP'),\n",
       "  ('the', 'DET'),\n",
       "  ('unit', 'NOUN'),\n",
       "  (\"'s\", 'PRT'),\n",
       "  ('president', 'NOUN'),\n",
       "  (',', '.'),\n",
       "  ('Thomas', 'NOUN'),\n",
       "  ('R.', 'NOUN'),\n",
       "  ('Sloan', 'NOUN'),\n",
       "  (',', '.'),\n",
       "  ('and', 'CONJ'),\n",
       "  ('other', 'ADJ'),\n",
       "  ('managers', 'NOUN'),\n",
       "  ('.', '.')],\n",
       " [('DD', 'NOUN'),\n",
       "  ('Acquisition', 'NOUN'),\n",
       "  ('Corp.', 'NOUN'),\n",
       "  (',', '.'),\n",
       "  ('a', 'DET'),\n",
       "  ('partnership', 'NOUN'),\n",
       "  ('of', 'ADP'),\n",
       "  ('Unicorp', 'NOUN'),\n",
       "  ('Canada', 'NOUN'),\n",
       "  ('Corp.', 'NOUN'),\n",
       "  (\"'s\", 'PRT'),\n",
       "  ('Kingsbridge', 'NOUN'),\n",
       "  ('Capital', 'NOUN'),\n",
       "  ('Group', 'NOUN'),\n",
       "  ('and', 'CONJ'),\n",
       "  ('Cara', 'NOUN'),\n",
       "  ('Operations', 'NOUN'),\n",
       "  ('Ltd.', 'NOUN'),\n",
       "  (',', '.'),\n",
       "  ('extended', 'VERB'),\n",
       "  ('to', 'PRT'),\n",
       "  ('Nov.', 'NOUN'),\n",
       "  ('20', 'NUM'),\n",
       "  ('its', 'PRON'),\n",
       "  ('$', '.'),\n",
       "  ('45-a-share', 'ADJ'),\n",
       "  ('offer', 'NOUN'),\n",
       "  ('for', 'ADP'),\n",
       "  ('all', 'DET'),\n",
       "  (\"Dunkin'\", 'NOUN'),\n",
       "  ('Donuts', 'NOUN'),\n",
       "  ('Inc.', 'NOUN'),\n",
       "  ('shares', 'NOUN'),\n",
       "  ('outstanding', 'ADJ'),\n",
       "  ('.', '.')]]"
      ]
     },
     "execution_count": 23,
     "metadata": {},
     "output_type": "execute_result"
    }
   ],
   "source": [
    "# Running on entire test dataset would take more than 3-4hrs. \n",
    "# Let's test our Viterbi algorithm on a few sample sentences of test dataset\n",
    "\n",
    "random.seed(1234)\n",
    "\n",
    "# choose random 5 sents\n",
    "rndom = [random.randint(1,len(test_set)) for x in range(5)]\n",
    "\n",
    "# list of sents\n",
    "test_run = [test_set[i] for i in rndom]\n",
    "\n",
    "# list of tagged words\n",
    "test_run_base = [tup for sent in test_run for tup in sent]\n",
    "\n",
    "# list of untagged words\n",
    "test_tagged_words = [tup[0] for sent in test_run for tup in sent]\n",
    "test_run"
   ]
  },
  {
   "cell_type": "code",
   "execution_count": 24,
   "metadata": {},
   "outputs": [],
   "source": [
    "# tagging the test sentences\n",
    "start = time.time()\n",
    "tagged_seq = Viterbi(test_tagged_words)\n",
    "end = time.time()\n",
    "difference = end-start"
   ]
  },
  {
   "cell_type": "code",
   "execution_count": 25,
   "metadata": {},
   "outputs": [
    {
     "name": "stdout",
     "output_type": "stream",
     "text": [
      "35.88124895095825\n"
     ]
    }
   ],
   "source": [
    "# Check time taken to tag the test sentences\n",
    "print(difference)"
   ]
  },
  {
   "cell_type": "code",
   "execution_count": 27,
   "metadata": {},
   "outputs": [
    {
     "name": "stdout",
     "output_type": "stream",
     "text": [
      "0.9156626506024096\n"
     ]
    }
   ],
   "source": [
    "# Find the accuracy of the model\n",
    "check_acc = [i for i, j in zip(tagged_seq, test_run_base) if i == j] \n",
    "accuracy_vannila_viterbi = len(check_acc)/len(tagged_seq)\n",
    "print(accuracy_vannila_viterbi)"
   ]
  },
  {
   "cell_type": "markdown",
   "metadata": {},
   "source": [
    "We got 91.56% of accuracy with the Vannila Viterbi algorithm.\n",
    "\n",
    "Now, lets check how the model tagged the sentences in the test data."
   ]
  },
  {
   "cell_type": "code",
   "execution_count": 30,
   "metadata": {},
   "outputs": [
    {
     "name": "stdout",
     "output_type": "stream",
     "text": [
      "Android is a mobile operating system developed by Google.\r\n",
      "\n",
      "Android has been the best-selling OS worldwide on smartphones since 2011 and on tablets since 2013.\r\n",
      "\n",
      "Google and Twitter made a deal in 2015 that gave Google access to Twitter's firehose.\r\n",
      "\n",
      "Twitter is an online news and social networking service on which users post and interact with messages known as tweets.\r\n",
      "\n",
      "Before entering politics, Donald Trump was a domineering businessman and a television personality.\r\n",
      "\n",
      "The 2018 FIFA World Cup is the 21st FIFA World Cup, an international football tournament contested once every four years.\r\n",
      "\n",
      "This is the first World Cup to be held in Eastern Europe and the 11th time that it has been held in Europe.\r\n",
      "\n",
      "Show me the cheapest round trips from Dallas to Atlanta\r\n",
      "\n",
      "I would like to see flights from Denver to Philadelphia.\r\n",
      "\n",
      "Show me the price of the flights leaving Atlanta at about 3 in the afternoon and arriving in San Francisco.\r\n",
      "\n",
      "NASA invited social media users to experience the launch of ICESAT-2 Satellite.\r\n",
      "\n",
      "\r\n",
      "\n",
      "\r\n",
      "\n",
      "\r\n",
      "\n"
     ]
    }
   ],
   "source": [
    "#Read the text file\n",
    "import codecs\n",
    "lines=[]\n",
    "files = codecs.open(\"Test_sentences.txt\", encoding='utf-8')\n",
    "for line in files:\n",
    "    print(line)\n",
    "    lines.append(line)"
   ]
  },
  {
   "cell_type": "code",
   "execution_count": 31,
   "metadata": {},
   "outputs": [
    {
     "data": {
      "text/plain": [
       "[[('to', 'PRT'), (('report', 'NOUN'), ('report', 'VERB'))],\n",
       " [('first', 'ADJ'), (('half', 'NOUN'), ('half', 'DET'))],\n",
       " [('substantial', 'ADJ'), (('gifts', 'NUM'), ('gifts', 'NOUN'))],\n",
       " [('from', 'ADP'), (('businessmen', 'NUM'), ('businessmen', 'NOUN'))],\n",
       " [('having', 'VERB'), (('extramarital', 'NUM'), ('extramarital', 'ADJ'))],\n",
       " [('--', '.'), (('are', 'VERB'), ('are', 'ADP'))],\n",
       " [('under', 'ADP'), (('close', 'NOUN'), ('close', 'ADJ'))],\n",
       " [('the', 'DET'), (('receipt', 'NUM'), ('receipt', 'NOUN'))],\n",
       " [('.', '.'), (('R.P.', 'NUM'), ('R.P.', 'NOUN'))],\n",
       " [('R.P.', 'NOUN'), (('Scherer', 'NUM'), ('Scherer', 'NOUN'))],\n",
       " [('R.', 'NOUN'), (('Sloan', 'NUM'), ('Sloan', 'NOUN'))],\n",
       " [(\"'s\", 'PRT'), (('Kingsbridge', 'NUM'), ('Kingsbridge', 'NOUN'))],\n",
       " [('$', '.'), (('45-a-share', 'NUM'), ('45-a-share', 'ADJ'))],\n",
       " [(\"Dunkin'\", 'NOUN'), (('Donuts', 'NUM'), ('Donuts', 'NOUN'))]]"
      ]
     },
     "execution_count": 31,
     "metadata": {},
     "output_type": "execute_result"
    }
   ],
   "source": [
    "#View the tags that are set incorrectly\n",
    "incorrect_tagged_cases = [[test_run_base[i-1],j] for i, j in enumerate(zip(tagged_seq, test_run_base)) if j[0]!=j[1]]\n",
    "incorrect_tagged_cases"
   ]
  },
  {
   "cell_type": "code",
   "execution_count": 33,
   "metadata": {},
   "outputs": [
    {
     "name": "stdout",
     "output_type": "stream",
     "text": [
      "[('Android', 'NUM'), ('is', 'VERB'), ('a', 'DET'), ('mobile', 'ADJ'), ('operating', 'NOUN'), ('system', 'NOUN'), ('developed', 'VERB'), ('by', 'ADP'), ('Google', 'NUM'), ('.', '.'), ('Android', 'NUM'), ('has', 'VERB'), ('been', 'VERB'), ('the', 'DET'), ('best-selling', 'ADJ'), ('OS', 'NUM'), ('worldwide', 'NUM'), ('on', 'ADP'), ('smartphones', 'NUM'), ('since', 'ADP'), ('2011', 'NUM'), ('and', 'CONJ'), ('on', 'ADP'), ('tablets', 'NOUN'), ('since', 'ADP'), ('2013', 'NUM'), ('.', '.'), ('Google', 'NUM'), ('and', 'CONJ'), ('Twitter', 'NUM'), ('made', 'VERB'), ('a', 'DET'), ('deal', 'NOUN'), ('in', 'ADP'), ('2015', 'NUM'), ('that', 'ADP'), ('gave', 'VERB'), ('Google', 'NUM'), ('access', 'NOUN'), ('to', 'PRT'), ('Twitter', 'NUM'), (\"'s\", 'PRT'), ('firehose', 'NUM'), ('.', '.'), ('Twitter', 'NUM'), ('is', 'VERB'), ('an', 'DET'), ('online', 'NUM'), ('news', 'NOUN'), ('and', 'CONJ'), ('social', 'ADJ'), ('networking', 'NOUN'), ('service', 'NOUN'), ('on', 'ADP'), ('which', 'DET'), ('users', 'NOUN'), ('post', 'NOUN'), ('and', 'CONJ'), ('interact', 'NUM'), ('with', 'ADP'), ('messages', 'NUM'), ('known', 'VERB'), ('as', 'ADP'), ('tweets', 'NUM'), ('.', '.'), ('Before', 'ADP'), ('entering', 'VERB'), ('politics', 'NOUN'), (',', '.'), ('Donald', 'NOUN'), ('Trump', 'NOUN'), ('was', 'VERB'), ('a', 'DET'), ('domineering', 'NUM'), ('businessman', 'NOUN'), ('and', 'CONJ'), ('a', 'DET'), ('television', 'NOUN'), ('personality', 'NUM'), ('.', '.'), ('The', 'DET'), ('2018', 'NUM'), ('FIFA', 'NUM'), ('World', 'NOUN'), ('Cup', 'NUM'), ('is', 'VERB'), ('the', 'DET'), ('21st', 'NUM'), ('FIFA', 'NUM'), ('World', 'NOUN'), ('Cup', 'NUM'), (',', '.'), ('an', 'DET'), ('international', 'ADJ'), ('football', 'NOUN'), ('tournament', 'NUM'), ('contested', 'NUM'), ('once', 'ADV'), ('every', 'DET'), ('four', 'NUM'), ('years', 'NOUN'), ('.', '.'), ('This', 'DET'), ('is', 'VERB'), ('the', 'DET'), ('first', 'ADJ'), ('World', 'NOUN'), ('Cup', 'NUM'), ('to', 'PRT'), ('be', 'VERB'), ('held', 'VERB'), ('in', 'ADP'), ('Eastern', 'NOUN'), ('Europe', 'NOUN'), ('and', 'CONJ'), ('the', 'DET'), ('11th', 'ADJ'), ('time', 'NOUN'), ('that', 'ADP'), ('it', 'PRON'), ('has', 'VERB'), ('been', 'VERB'), ('held', 'VERB'), ('in', 'ADP'), ('Europe', 'NOUN'), ('.', '.'), ('Show', 'NOUN'), ('me', 'PRON'), ('the', 'DET'), ('cheapest', 'ADJ'), ('round', 'NOUN'), ('trips', 'NUM'), ('from', 'ADP'), ('Dallas', 'NOUN'), ('to', 'PRT'), ('Atlanta', 'NOUN'), ('I', 'PRON'), ('would', 'VERB'), ('like', 'ADP'), ('to', 'PRT'), ('see', 'VERB'), ('flights', 'NOUN'), ('from', 'ADP'), ('Denver', 'NOUN'), ('to', 'PRT'), ('Philadelphia', 'NOUN'), ('.', '.'), ('Show', 'NOUN'), ('me', 'PRON'), ('the', 'DET'), ('price', 'NOUN'), ('of', 'ADP'), ('the', 'DET'), ('flights', 'NOUN'), ('leaving', 'VERB'), ('Atlanta', 'NOUN'), ('at', 'ADP'), ('about', 'ADP'), ('3', 'NUM'), ('in', 'ADP'), ('the', 'DET'), ('afternoon', 'NOUN'), ('and', 'CONJ'), ('arriving', 'NUM'), ('in', 'ADP'), ('San', 'NOUN'), ('Francisco', 'NOUN'), ('.', '.'), ('NASA', 'NUM'), ('invited', 'NUM'), ('social', 'ADJ'), ('media', 'NOUN'), ('users', 'NOUN'), ('to', 'PRT'), ('experience', 'NOUN'), ('the', 'DET'), ('launch', 'NOUN'), ('of', 'ADP'), ('ICESAT-2', 'NUM'), ('Satellite', 'NUM'), ('.', '.')]\n",
      "40.58203196525574\n"
     ]
    }
   ],
   "source": [
    "#Tokenize Test sentences\n",
    "sent_test = open('Test_sentences.txt',mode='r').read()\n",
    "words = word_tokenize(sent_test)\n",
    "\n",
    "start = time.time()\n",
    "tagged_seq = Viterbi(words)\n",
    "end = time.time()\n",
    "difference = end-start\n",
    "\n",
    "#Check time taken\n",
    "print(tagged_seq)\n",
    "print(difference)\n",
    "vannila_viterbi_test_tagged_seq = tagged_seq"
   ]
  },
  {
   "cell_type": "markdown",
   "metadata": {},
   "source": [
    "### Solve the problem of unknown words"
   ]
  },
  {
   "cell_type": "code",
   "execution_count": 34,
   "metadata": {},
   "outputs": [
    {
     "data": {
      "text/plain": [
       "['Android is a mobile operating system developed by Google.\\r\\n',\n",
       " 'Android has been the best-selling OS worldwide on smartphones since 2011 and on tablets since 2013.\\r\\n',\n",
       " \"Google and Twitter made a deal in 2015 that gave Google access to Twitter's firehose.\\r\\n\",\n",
       " 'Twitter is an online news and social networking service on which users post and interact with messages known as tweets.\\r\\n',\n",
       " 'Before entering politics, Donald Trump was a domineering businessman and a television personality.\\r\\n',\n",
       " 'The 2018 FIFA World Cup is the 21st FIFA World Cup, an international football tournament contested once every four years.\\r\\n',\n",
       " 'This is the first World Cup to be held in Eastern Europe and the 11th time that it has been held in Europe.\\r\\n',\n",
       " 'Show me the cheapest round trips from Dallas to Atlanta\\r\\n',\n",
       " 'I would like to see flights from Denver to Philadelphia.\\r\\n',\n",
       " 'Show me the price of the flights leaving Atlanta at about 3 in the afternoon and arriving in San Francisco.\\r\\n',\n",
       " 'NASA invited social media users to experience the launch of ICESAT-2 Satellite.\\r\\n',\n",
       " '\\r\\n',\n",
       " '\\r\\n',\n",
       " '\\r\\n']"
      ]
     },
     "execution_count": 34,
     "metadata": {},
     "output_type": "execute_result"
    }
   ],
   "source": [
    "lines"
   ]
  },
  {
   "cell_type": "code",
   "execution_count": 37,
   "metadata": {},
   "outputs": [
    {
     "data": {
      "text/plain": [
       "['Android is a mobile operating system developed by Google.',\n",
       " 'Android has been the best-selling OS worldwide on smartphones since 2011 and on tablets since 2013.',\n",
       " \"Google and Twitter made a deal in 2015 that gave Google access to Twitter's firehose.\",\n",
       " 'Twitter is an online news and social networking service on which users post and interact with messages known as tweets.',\n",
       " 'Before entering politics, Donald Trump was a domineering businessman and a television personality.',\n",
       " 'The 2018 FIFA World Cup is the 21st FIFA World Cup, an international football tournament contested once every four years.',\n",
       " 'This is the first World Cup to be held in Eastern Europe and the 11th time that it has been held in Europe.',\n",
       " 'Show me the cheapest round trips from Dallas to Atlanta',\n",
       " 'I would like to see flights from Denver to Philadelphia.',\n",
       " 'Show me the price of the flights leaving Atlanta at about 3 in the afternoon and arriving in San Francisco.',\n",
       " 'NASA invited social media users to experience the launch of ICESAT-2 Satellite.']"
      ]
     },
     "execution_count": 37,
     "metadata": {},
     "output_type": "execute_result"
    }
   ],
   "source": [
    "#Club the special characters and empty strings in a list file\n",
    "testset_lines =[sent.rstrip() for sent in lines if sent.rstrip()!='']\n",
    "testset_lines"
   ]
  },
  {
   "cell_type": "code",
   "execution_count": 38,
   "metadata": {},
   "outputs": [
    {
     "data": {
      "text/plain": [
       "[[('.', '.'), (('Android', 'NUM'), ('Without', 'ADP'))],\n",
       " [('Without', 'ADP'), (('is', 'VERB'), ('the', 'DET'))],\n",
       " [('the', 'DET'), (('a', 'DET'), ('Cray-3', 'NOUN'))],\n",
       " [('Cray-3', 'NOUN'), (('mobile', 'ADJ'), ('research', 'NOUN'))],\n",
       " [('research', 'NOUN'), (('operating', 'NOUN'), ('and', 'CONJ'))],\n",
       " [('and', 'CONJ'), (('system', 'NOUN'), ('development', 'NOUN'))],\n",
       " [('development', 'NOUN'), (('developed', 'VERB'), ('expenses', 'NOUN'))],\n",
       " [('expenses', 'NOUN'), (('by', 'ADP'), (',', '.'))],\n",
       " [(',', '.'), (('Google', 'NUM'), ('the', 'DET'))],\n",
       " [('the', 'DET'), (('.', '.'), ('company', 'NOUN'))],\n",
       " [('company', 'NOUN'), (('Android', 'NUM'), ('would', 'VERB'))],\n",
       " [('would', 'VERB'), (('has', 'VERB'), ('have', 'VERB'))],\n",
       " [('been', 'VERB'), (('the', 'DET'), ('able', 'ADJ'))],\n",
       " [('able', 'ADJ'), (('best-selling', 'ADJ'), ('*-2', 'X'))],\n",
       " [('*-2', 'X'), (('OS', 'NUM'), ('to', 'PRT'))],\n",
       " [('to', 'PRT'), (('worldwide', 'NUM'), ('report', 'VERB'))],\n",
       " [('report', 'VERB'), (('on', 'ADP'), ('a', 'DET'))],\n",
       " [('a', 'DET'), (('smartphones', 'NUM'), ('profit', 'NOUN'))],\n",
       " [('profit', 'NOUN'), (('since', 'ADP'), ('of', 'ADP'))],\n",
       " [('of', 'ADP'), (('2011', 'NUM'), ('$', '.'))],\n",
       " [('$', '.'), (('and', 'CONJ'), ('19.3', 'NUM'))],\n",
       " [('19.3', 'NUM'), (('on', 'ADP'), ('million', 'NUM'))],\n",
       " [('million', 'NUM'), (('tablets', 'NOUN'), ('*U*', 'X'))],\n",
       " [('*U*', 'X'), (('since', 'ADP'), ('*ICH*-3', 'X'))],\n",
       " [('*ICH*-3', 'X'), (('2013', 'NUM'), ('for', 'ADP'))],\n",
       " [('for', 'ADP'), (('.', '.'), ('the', 'DET'))],\n",
       " [('the', 'DET'), (('Google', 'NUM'), ('first', 'ADJ'))],\n",
       " [('first', 'ADJ'), (('and', 'CONJ'), ('half', 'DET'))],\n",
       " [('half', 'DET'), (('Twitter', 'NUM'), ('of', 'ADP'))],\n",
       " [('of', 'ADP'), (('made', 'VERB'), ('1989', 'NUM'))],\n",
       " [('1989', 'NUM'), (('a', 'DET'), ('rather', 'ADV'))],\n",
       " [('rather', 'ADV'), (('deal', 'NOUN'), ('than', 'ADP'))],\n",
       " [('than', 'ADP'), (('in', 'ADP'), ('the', 'DET'))],\n",
       " [('the', 'DET'), (('2015', 'NUM'), ('$', '.'))],\n",
       " [('$', '.'), (('that', 'ADP'), ('5.9', 'NUM'))],\n",
       " [('5.9', 'NUM'), (('gave', 'VERB'), ('million', 'NUM'))],\n",
       " [('million', 'NUM'), (('Google', 'NUM'), ('*U*', 'X'))],\n",
       " [('*U*', 'X'), (('access', 'NOUN'), ('0', 'X'))],\n",
       " [('0', 'X'), (('to', 'PRT'), ('it', 'PRON'))],\n",
       " [('it', 'PRON'), (('Twitter', 'NUM'), ('posted', 'VERB'))],\n",
       " [('posted', 'VERB'), ((\"'s\", 'PRT'), ('*T*-1', 'X'))],\n",
       " [('*T*-1', 'X'), (('firehose', 'NUM'), ('.', '.'))],\n",
       " [('.', '.'), (('.', '.'), ('But', 'CONJ'))],\n",
       " [('But', 'CONJ'), (('Twitter', 'NUM'), ('the', 'DET'))],\n",
       " [('the', 'DET'), (('is', 'VERB'), ('growing', 'VERB'))],\n",
       " [('growing', 'VERB'), (('an', 'DET'), ('controversy', 'NOUN'))],\n",
       " [('controversy', 'NOUN'), (('online', 'NUM'), ('comes', 'VERB'))],\n",
       " [('comes', 'VERB'), (('news', 'NOUN'), ('as', 'ADP'))],\n",
       " [('as', 'ADP'), (('and', 'CONJ'), ('many', 'ADJ'))],\n",
       " [('many', 'ADJ'), (('social', 'ADJ'), ('practices', 'NOUN'))],\n",
       " [('practices', 'NOUN'), (('networking', 'NOUN'), ('historically', 'ADV'))],\n",
       " [('historically', 'ADV'), (('service', 'NOUN'), ('accepted', 'VERB'))],\n",
       " [('accepted', 'VERB'), (('on', 'ADP'), ('*', 'X'))],\n",
       " [('*', 'X'), (('which', 'DET'), ('as', 'ADP'))],\n",
       " [('as', 'ADP'), (('users', 'NOUN'), ('normal', 'ADJ'))],\n",
       " [('normal', 'ADJ'), (('post', 'NOUN'), ('here', 'ADV'))],\n",
       " [('here', 'ADV'), (('and', 'CONJ'), ('--', '.'))],\n",
       " [('--', '.'), (('interact', 'NUM'), ('such', 'ADJ'))],\n",
       " [('such', 'ADJ'), (('with', 'ADP'), ('as', 'ADP'))],\n",
       " [('as', 'ADP'), (('messages', 'NUM'), ('politicians', 'NOUN'))],\n",
       " [('politicians', 'NOUN'), (('known', 'VERB'), ('accepting', 'VERB'))],\n",
       " [('accepting', 'VERB'), (('as', 'ADP'), ('substantial', 'ADJ'))],\n",
       " [('substantial', 'ADJ'), (('tweets', 'NUM'), ('gifts', 'NOUN'))],\n",
       " [('gifts', 'NOUN'), (('.', '.'), ('from', 'ADP'))],\n",
       " [('from', 'ADP'), (('Before', 'ADP'), ('businessmen', 'NOUN'))],\n",
       " [('businessmen', 'NOUN'), (('entering', 'VERB'), ('or', 'CONJ'))],\n",
       " [('or', 'CONJ'), (('politics', 'NOUN'), ('having', 'VERB'))],\n",
       " [('having', 'VERB'), ((',', '.'), ('extramarital', 'ADJ'))],\n",
       " [('extramarital', 'ADJ'), (('Donald', 'NOUN'), ('affairs', 'NOUN'))],\n",
       " [('affairs', 'NOUN'), (('Trump', 'NOUN'), ('--', '.'))],\n",
       " [('--', '.'), (('was', 'VERB'), ('are', 'ADP'))],\n",
       " [('are', 'ADP'), (('a', 'DET'), ('coming', 'VERB'))],\n",
       " [('coming', 'VERB'), (('domineering', 'NUM'), ('under', 'ADP'))],\n",
       " [('under', 'ADP'), (('businessman', 'NOUN'), ('close', 'ADJ'))],\n",
       " [('close', 'ADJ'), (('and', 'CONJ'), ('ethical', 'ADJ'))],\n",
       " [('ethical', 'ADJ'), (('a', 'DET'), ('scrutiny', 'NOUN'))],\n",
       " [('scrutiny', 'NOUN'), (('television', 'NOUN'), ('.', '.'))],\n",
       " [('.', '.'), (('personality', 'NUM'), (\"Dunkin'\", 'NOUN'))],\n",
       " [(\"Dunkin'\", 'NOUN'), (('.', '.'), ('has', 'VERB'))],\n",
       " [('has', 'VERB'), (('The', 'DET'), ('set', 'VERB'))],\n",
       " [('set', 'VERB'), (('2018', 'NUM'), ('Nov.', 'NOUN'))],\n",
       " [('Nov.', 'NOUN'), (('FIFA', 'NUM'), ('10', 'NUM'))],\n",
       " [('10', 'NUM'), (('World', 'NOUN'), ('as', 'ADP'))],\n",
       " [('as', 'ADP'), (('Cup', 'NUM'), ('the', 'DET'))],\n",
       " [('the', 'DET'), (('is', 'VERB'), ('deadline', 'NOUN'))],\n",
       " [('deadline', 'NOUN'), (('the', 'DET'), ('for', 'ADP'))],\n",
       " [('for', 'ADP'), (('21st', 'NUM'), ('the', 'DET'))],\n",
       " [('the', 'DET'), (('FIFA', 'NUM'), ('receipt', 'NOUN'))],\n",
       " [('receipt', 'NOUN'), (('World', 'NOUN'), ('of', 'ADP'))],\n",
       " [('of', 'ADP'), (('Cup', 'NUM'), ('any', 'DET'))],\n",
       " [('any', 'DET'), ((',', '.'), ('competing', 'VERB'))],\n",
       " [('competing', 'VERB'), (('an', 'DET'), ('bids', 'NOUN'))],\n",
       " [('bids', 'NOUN'), (('international', 'ADJ'), ('.', '.'))],\n",
       " [('.', '.'), (('football', 'NOUN'), ('R.P.', 'NOUN'))],\n",
       " [('R.P.', 'NOUN'), (('tournament', 'NUM'), ('Scherer', 'NOUN'))],\n",
       " [('Scherer', 'NOUN'), (('contested', 'NUM'), ('Corp.', 'NOUN'))],\n",
       " [('Corp.', 'NOUN'), (('once', 'ADV'), ('said', 'VERB'))],\n",
       " [('said', 'VERB'), (('every', 'DET'), ('0', 'X'))],\n",
       " [('0', 'X'), (('four', 'NUM'), ('it', 'PRON'))],\n",
       " [('it', 'PRON'), (('years', 'NOUN'), ('completed', 'VERB'))],\n",
       " [('completed', 'VERB'), (('.', '.'), ('the', 'DET'))],\n",
       " [('the', 'DET'), (('This', 'DET'), ('$', '.'))],\n",
       " [('$', '.'), (('is', 'VERB'), ('10.2', 'NUM'))],\n",
       " [('10.2', 'NUM'), (('the', 'DET'), ('million', 'NUM'))],\n",
       " [('million', 'NUM'), (('first', 'ADJ'), ('*U*', 'X'))],\n",
       " [('*U*', 'X'), (('World', 'NOUN'), ('sale', 'NOUN'))],\n",
       " [('sale', 'NOUN'), (('Cup', 'NUM'), ('of', 'ADP'))],\n",
       " [('of', 'ADP'), (('to', 'PRT'), ('its', 'PRON'))],\n",
       " [('its', 'PRON'), (('be', 'VERB'), ('Southern', 'NOUN'))],\n",
       " [('Southern', 'NOUN'), (('held', 'VERB'), ('Optical', 'NOUN'))],\n",
       " [('Optical', 'NOUN'), (('in', 'ADP'), ('subsidiary', 'NOUN'))],\n",
       " [('subsidiary', 'NOUN'), (('Eastern', 'NOUN'), ('to', 'PRT'))],\n",
       " [('to', 'PRT'), (('Europe', 'NOUN'), ('a', 'DET'))],\n",
       " [('a', 'DET'), (('and', 'CONJ'), ('group', 'NOUN'))],\n",
       " [('group', 'NOUN'), (('the', 'DET'), ('led', 'VERB'))],\n",
       " [('led', 'VERB'), (('11th', 'ADJ'), ('*', 'X'))],\n",
       " [('*', 'X'), (('time', 'NOUN'), ('by', 'ADP'))],\n",
       " [('by', 'ADP'), (('that', 'ADP'), ('the', 'DET'))],\n",
       " [('the', 'DET'), (('it', 'PRON'), ('unit', 'NOUN'))],\n",
       " [('unit', 'NOUN'), (('has', 'VERB'), (\"'s\", 'PRT'))],\n",
       " [(\"'s\", 'PRT'), (('been', 'VERB'), ('president', 'NOUN'))],\n",
       " [('president', 'NOUN'), (('held', 'VERB'), (',', '.'))],\n",
       " [(',', '.'), (('in', 'ADP'), ('Thomas', 'NOUN'))],\n",
       " [('Thomas', 'NOUN'), (('Europe', 'NOUN'), ('R.', 'NOUN'))],\n",
       " [('R.', 'NOUN'), (('.', '.'), ('Sloan', 'NOUN'))],\n",
       " [('Sloan', 'NOUN'), (('Show', 'NOUN'), (',', '.'))],\n",
       " [(',', '.'), (('me', 'PRON'), ('and', 'CONJ'))],\n",
       " [('and', 'CONJ'), (('the', 'DET'), ('other', 'ADJ'))],\n",
       " [('other', 'ADJ'), (('cheapest', 'ADJ'), ('managers', 'NOUN'))],\n",
       " [('managers', 'NOUN'), (('round', 'NOUN'), ('.', '.'))],\n",
       " [('.', '.'), (('trips', 'NUM'), ('DD', 'NOUN'))],\n",
       " [('DD', 'NOUN'), (('from', 'ADP'), ('Acquisition', 'NOUN'))],\n",
       " [('Acquisition', 'NOUN'), (('Dallas', 'NOUN'), ('Corp.', 'NOUN'))],\n",
       " [('Corp.', 'NOUN'), (('to', 'PRT'), (',', '.'))],\n",
       " [(',', '.'), (('Atlanta', 'NOUN'), ('a', 'DET'))],\n",
       " [('a', 'DET'), (('I', 'PRON'), ('partnership', 'NOUN'))],\n",
       " [('partnership', 'NOUN'), (('would', 'VERB'), ('of', 'ADP'))],\n",
       " [('of', 'ADP'), (('like', 'ADP'), ('Unicorp', 'NOUN'))],\n",
       " [('Unicorp', 'NOUN'), (('to', 'PRT'), ('Canada', 'NOUN'))],\n",
       " [('Canada', 'NOUN'), (('see', 'VERB'), ('Corp.', 'NOUN'))],\n",
       " [('Corp.', 'NOUN'), (('flights', 'NOUN'), (\"'s\", 'PRT'))],\n",
       " [(\"'s\", 'PRT'), (('from', 'ADP'), ('Kingsbridge', 'NOUN'))],\n",
       " [('Kingsbridge', 'NOUN'), (('Denver', 'NOUN'), ('Capital', 'NOUN'))],\n",
       " [('Capital', 'NOUN'), (('to', 'PRT'), ('Group', 'NOUN'))],\n",
       " [('Group', 'NOUN'), (('Philadelphia', 'NOUN'), ('and', 'CONJ'))],\n",
       " [('and', 'CONJ'), (('.', '.'), ('Cara', 'NOUN'))],\n",
       " [('Cara', 'NOUN'), (('Show', 'NOUN'), ('Operations', 'NOUN'))],\n",
       " [('Operations', 'NOUN'), (('me', 'PRON'), ('Ltd.', 'NOUN'))],\n",
       " [('Ltd.', 'NOUN'), (('the', 'DET'), (',', '.'))],\n",
       " [(',', '.'), (('price', 'NOUN'), ('extended', 'VERB'))],\n",
       " [('extended', 'VERB'), (('of', 'ADP'), ('to', 'PRT'))],\n",
       " [('to', 'PRT'), (('the', 'DET'), ('Nov.', 'NOUN'))],\n",
       " [('Nov.', 'NOUN'), (('flights', 'NOUN'), ('20', 'NUM'))],\n",
       " [('20', 'NUM'), (('leaving', 'VERB'), ('its', 'PRON'))],\n",
       " [('its', 'PRON'), (('Atlanta', 'NOUN'), ('$', '.'))],\n",
       " [('$', '.'), (('at', 'ADP'), ('45-a-share', 'ADJ'))],\n",
       " [('45-a-share', 'ADJ'), (('about', 'ADP'), ('offer', 'NOUN'))],\n",
       " [('offer', 'NOUN'), (('3', 'NUM'), ('for', 'ADP'))],\n",
       " [('for', 'ADP'), (('in', 'ADP'), ('all', 'DET'))],\n",
       " [('all', 'DET'), (('the', 'DET'), (\"Dunkin'\", 'NOUN'))],\n",
       " [(\"Dunkin'\", 'NOUN'), (('afternoon', 'NOUN'), ('Donuts', 'NOUN'))],\n",
       " [('Donuts', 'NOUN'), (('and', 'CONJ'), ('Inc.', 'NOUN'))],\n",
       " [('Inc.', 'NOUN'), (('arriving', 'NUM'), ('shares', 'NOUN'))],\n",
       " [('shares', 'NOUN'), (('in', 'ADP'), ('outstanding', 'ADJ'))],\n",
       " [('outstanding', 'ADJ'), (('San', 'NOUN'), ('.', '.'))]]"
      ]
     },
     "execution_count": 38,
     "metadata": {},
     "output_type": "execute_result"
    }
   ],
   "source": [
    "#Get the words in the test set which are incorrectly classified\n",
    "incorrect_tagged_cases = [[test_run_base[i-1],j] for i, j in enumerate(zip(tagged_seq, test_run_base)) if j[0]!=j[1]]\n",
    "incorrect_tagged_cases"
   ]
  },
  {
   "cell_type": "code",
   "execution_count": 39,
   "metadata": {},
   "outputs": [
    {
     "data": {
      "text/plain": [
       "[('Android', 'NUM'),\n",
       " ('is', 'VERB'),\n",
       " ('a', 'DET'),\n",
       " ('mobile', 'ADJ'),\n",
       " ('operating', 'NOUN'),\n",
       " ('system', 'NOUN'),\n",
       " ('developed', 'VERB'),\n",
       " ('by', 'ADP'),\n",
       " ('Google', 'NUM'),\n",
       " ('.', '.'),\n",
       " ('Android', 'NUM'),\n",
       " ('has', 'VERB'),\n",
       " ('been', 'VERB'),\n",
       " ('the', 'DET'),\n",
       " ('best-selling', 'ADJ'),\n",
       " ('OS', 'NUM'),\n",
       " ('worldwide', 'NUM'),\n",
       " ('on', 'ADP'),\n",
       " ('smartphones', 'NUM'),\n",
       " ('since', 'ADP'),\n",
       " ('2011', 'NUM'),\n",
       " ('and', 'CONJ'),\n",
       " ('on', 'ADP'),\n",
       " ('tablets', 'NOUN'),\n",
       " ('since', 'ADP'),\n",
       " ('2013', 'NUM'),\n",
       " ('.', '.'),\n",
       " ('Google', 'NUM'),\n",
       " ('and', 'CONJ'),\n",
       " ('Twitter', 'NUM'),\n",
       " ('made', 'VERB'),\n",
       " ('a', 'DET'),\n",
       " ('deal', 'NOUN'),\n",
       " ('in', 'ADP'),\n",
       " ('2015', 'NUM'),\n",
       " ('that', 'ADP'),\n",
       " ('gave', 'VERB'),\n",
       " ('Google', 'NUM'),\n",
       " ('access', 'NOUN'),\n",
       " ('to', 'PRT'),\n",
       " ('Twitter', 'NUM'),\n",
       " (\"'s\", 'PRT'),\n",
       " ('firehose', 'NUM'),\n",
       " ('.', '.'),\n",
       " ('Twitter', 'NUM'),\n",
       " ('is', 'VERB'),\n",
       " ('an', 'DET'),\n",
       " ('online', 'NUM'),\n",
       " ('news', 'NOUN'),\n",
       " ('and', 'CONJ'),\n",
       " ('social', 'ADJ'),\n",
       " ('networking', 'NOUN'),\n",
       " ('service', 'NOUN'),\n",
       " ('on', 'ADP'),\n",
       " ('which', 'DET'),\n",
       " ('users', 'NOUN'),\n",
       " ('post', 'NOUN'),\n",
       " ('and', 'CONJ'),\n",
       " ('interact', 'NUM'),\n",
       " ('with', 'ADP'),\n",
       " ('messages', 'NUM'),\n",
       " ('known', 'VERB'),\n",
       " ('as', 'ADP'),\n",
       " ('tweets', 'NUM'),\n",
       " ('.', '.'),\n",
       " ('Before', 'ADP'),\n",
       " ('entering', 'VERB'),\n",
       " ('politics', 'NOUN'),\n",
       " (',', '.'),\n",
       " ('Donald', 'NOUN'),\n",
       " ('Trump', 'NOUN'),\n",
       " ('was', 'VERB'),\n",
       " ('a', 'DET'),\n",
       " ('domineering', 'NUM'),\n",
       " ('businessman', 'NOUN'),\n",
       " ('and', 'CONJ'),\n",
       " ('a', 'DET'),\n",
       " ('television', 'NOUN'),\n",
       " ('personality', 'NUM'),\n",
       " ('.', '.'),\n",
       " ('The', 'DET'),\n",
       " ('2018', 'NUM'),\n",
       " ('FIFA', 'NUM'),\n",
       " ('World', 'NOUN'),\n",
       " ('Cup', 'NUM'),\n",
       " ('is', 'VERB'),\n",
       " ('the', 'DET'),\n",
       " ('21st', 'NUM'),\n",
       " ('FIFA', 'NUM'),\n",
       " ('World', 'NOUN'),\n",
       " ('Cup', 'NUM'),\n",
       " (',', '.'),\n",
       " ('an', 'DET'),\n",
       " ('international', 'ADJ'),\n",
       " ('football', 'NOUN'),\n",
       " ('tournament', 'NUM'),\n",
       " ('contested', 'NUM'),\n",
       " ('once', 'ADV'),\n",
       " ('every', 'DET'),\n",
       " ('four', 'NUM'),\n",
       " ('years', 'NOUN'),\n",
       " ('.', '.'),\n",
       " ('This', 'DET'),\n",
       " ('is', 'VERB'),\n",
       " ('the', 'DET'),\n",
       " ('first', 'ADJ'),\n",
       " ('World', 'NOUN'),\n",
       " ('Cup', 'NUM'),\n",
       " ('to', 'PRT'),\n",
       " ('be', 'VERB'),\n",
       " ('held', 'VERB'),\n",
       " ('in', 'ADP'),\n",
       " ('Eastern', 'NOUN'),\n",
       " ('Europe', 'NOUN'),\n",
       " ('and', 'CONJ'),\n",
       " ('the', 'DET'),\n",
       " ('11th', 'ADJ'),\n",
       " ('time', 'NOUN'),\n",
       " ('that', 'ADP'),\n",
       " ('it', 'PRON'),\n",
       " ('has', 'VERB'),\n",
       " ('been', 'VERB'),\n",
       " ('held', 'VERB'),\n",
       " ('in', 'ADP'),\n",
       " ('Europe', 'NOUN'),\n",
       " ('.', '.'),\n",
       " ('Show', 'NOUN'),\n",
       " ('me', 'PRON'),\n",
       " ('the', 'DET'),\n",
       " ('cheapest', 'ADJ'),\n",
       " ('round', 'NOUN'),\n",
       " ('trips', 'NUM'),\n",
       " ('from', 'ADP'),\n",
       " ('Dallas', 'NOUN'),\n",
       " ('to', 'PRT'),\n",
       " ('Atlanta', 'NOUN'),\n",
       " ('I', 'PRON'),\n",
       " ('would', 'VERB'),\n",
       " ('like', 'ADP'),\n",
       " ('to', 'PRT'),\n",
       " ('see', 'VERB'),\n",
       " ('flights', 'NOUN'),\n",
       " ('from', 'ADP'),\n",
       " ('Denver', 'NOUN'),\n",
       " ('to', 'PRT'),\n",
       " ('Philadelphia', 'NOUN'),\n",
       " ('.', '.'),\n",
       " ('Show', 'NOUN'),\n",
       " ('me', 'PRON'),\n",
       " ('the', 'DET'),\n",
       " ('price', 'NOUN'),\n",
       " ('of', 'ADP'),\n",
       " ('the', 'DET'),\n",
       " ('flights', 'NOUN'),\n",
       " ('leaving', 'VERB'),\n",
       " ('Atlanta', 'NOUN'),\n",
       " ('at', 'ADP'),\n",
       " ('about', 'ADP'),\n",
       " ('3', 'NUM'),\n",
       " ('in', 'ADP'),\n",
       " ('the', 'DET'),\n",
       " ('afternoon', 'NOUN'),\n",
       " ('and', 'CONJ'),\n",
       " ('arriving', 'NUM'),\n",
       " ('in', 'ADP'),\n",
       " ('San', 'NOUN'),\n",
       " ('Francisco', 'NOUN'),\n",
       " ('.', '.'),\n",
       " ('NASA', 'NUM'),\n",
       " ('invited', 'NUM'),\n",
       " ('social', 'ADJ'),\n",
       " ('media', 'NOUN'),\n",
       " ('users', 'NOUN'),\n",
       " ('to', 'PRT'),\n",
       " ('experience', 'NOUN'),\n",
       " ('the', 'DET'),\n",
       " ('launch', 'NOUN'),\n",
       " ('of', 'ADP'),\n",
       " ('ICESAT-2', 'NUM'),\n",
       " ('Satellite', 'NUM'),\n",
       " ('.', '.')]"
      ]
     },
     "execution_count": 39,
     "metadata": {},
     "output_type": "execute_result"
    }
   ],
   "source": [
    "#Fin the predictions on the test set\n",
    "test_pred_list =[]\n",
    "for line in testset_lines:\n",
    "    test_pred_list=test_pred_list+list(Viterbi(word_tokenize(line)))\n",
    "test_pred_list"
   ]
  },
  {
   "cell_type": "markdown",
   "metadata": {},
   "source": [
    "So, we can see from above code that words like 'Android','Google', Twitter, the first tag in the training pos tagset is given. Now lets check whether these words exist in the training corpus."
   ]
  },
  {
   "cell_type": "code",
   "execution_count": 40,
   "metadata": {},
   "outputs": [],
   "source": [
    "#Get the tokens from test set\n",
    "sample_words=[tokens for line in testset_lines for tokens in word_tokenize(line)]"
   ]
  },
  {
   "cell_type": "code",
   "execution_count": 41,
   "metadata": {},
   "outputs": [
    {
     "data": {
      "text/plain": [
       "['invited',\n",
       " 'firehose',\n",
       " '21st',\n",
       " 'tournament',\n",
       " 'Cup',\n",
       " 'domineering',\n",
       " 'Google',\n",
       " 'Satellite',\n",
       " '2011',\n",
       " 'OS',\n",
       " 'FIFA',\n",
       " 'messages',\n",
       " 'trips',\n",
       " 'interact',\n",
       " 'worldwide',\n",
       " '2013',\n",
       " 'smartphones',\n",
       " 'online',\n",
       " 'ICESAT-2',\n",
       " 'personality',\n",
       " '2015',\n",
       " 'contested',\n",
       " 'tweets',\n",
       " 'Android',\n",
       " 'NASA',\n",
       " 'arriving',\n",
       " '2018',\n",
       " 'Twitter']"
      ]
     },
     "execution_count": 41,
     "metadata": {},
     "output_type": "execute_result"
    }
   ],
   "source": [
    "#Find the list of words which are present in test set but not in the training set corpus\n",
    "words_not_in_train = list(set(sample_words) - set(tokens))\n",
    "words_not_in_train"
   ]
  },
  {
   "cell_type": "markdown",
   "metadata": {},
   "source": [
    "So, here we can clearly see that the words like Google, Satellite etc. are not present in the training set and all these words are tagged with default tags."
   ]
  },
  {
   "cell_type": "code",
   "execution_count": 42,
   "metadata": {},
   "outputs": [
    {
     "data": {
      "text/plain": [
       "[('Android', 'NUM'),\n",
       " ('Google', 'NUM'),\n",
       " ('Android', 'NUM'),\n",
       " ('OS', 'NUM'),\n",
       " ('worldwide', 'NUM'),\n",
       " ('smartphones', 'NUM'),\n",
       " ('2011', 'NUM'),\n",
       " ('2013', 'NUM'),\n",
       " ('Google', 'NUM'),\n",
       " ('Twitter', 'NUM'),\n",
       " ('2015', 'NUM'),\n",
       " ('Google', 'NUM'),\n",
       " ('Twitter', 'NUM'),\n",
       " ('firehose', 'NUM'),\n",
       " ('Twitter', 'NUM'),\n",
       " ('online', 'NUM'),\n",
       " ('interact', 'NUM'),\n",
       " ('messages', 'NUM'),\n",
       " ('tweets', 'NUM'),\n",
       " ('domineering', 'NUM'),\n",
       " ('personality', 'NUM'),\n",
       " ('2018', 'NUM'),\n",
       " ('FIFA', 'NUM'),\n",
       " ('Cup', 'NUM'),\n",
       " ('21st', 'NUM'),\n",
       " ('FIFA', 'NUM'),\n",
       " ('Cup', 'NUM'),\n",
       " ('tournament', 'NUM'),\n",
       " ('contested', 'NUM'),\n",
       " ('Cup', 'NUM'),\n",
       " ('trips', 'NUM'),\n",
       " ('arriving', 'NUM'),\n",
       " ('NASA', 'NUM'),\n",
       " ('invited', 'NUM'),\n",
       " ('ICESAT-2', 'NUM'),\n",
       " ('Satellite', 'NUM')]"
      ]
     },
     "execution_count": 42,
     "metadata": {},
     "output_type": "execute_result"
    }
   ],
   "source": [
    "#Lets now check the tags predicted for unknown words \n",
    "[tup for tup in test_pred_list for word in words_not_in_train if tup[0]==word ]"
   ]
  },
  {
   "cell_type": "code",
   "execution_count": 43,
   "metadata": {},
   "outputs": [
    {
     "data": {
      "text/plain": [
       "Counter({'CONJ': 2151,\n",
       "         'DET': 8293,\n",
       "         'NOUN': 27519,\n",
       "         'ADP': 9381,\n",
       "         'VERB': 12889,\n",
       "         'PRT': 3061,\n",
       "         'X': 6310,\n",
       "         '.': 11166,\n",
       "         'ADJ': 6048,\n",
       "         'NUM': 3388,\n",
       "         'PRON': 2583,\n",
       "         'ADV': 3008})"
      ]
     },
     "execution_count": 43,
     "metadata": {},
     "output_type": "execute_result"
    }
   ],
   "source": [
    "#Checking the count of all tags in the training set\n",
    "from collections import Counter\n",
    "count_of_tag = Counter(pair[1] for pair in train_tagged_words)\n",
    "count_of_tag"
   ]
  },
  {
   "cell_type": "code",
   "execution_count": 44,
   "metadata": {},
   "outputs": [
    {
     "data": {
      "text/plain": [
       "[('NOUN', 27519), ('VERB', 12889), ('.', 11166), ('ADP', 9381), ('DET', 8293)]"
      ]
     },
     "execution_count": 44,
     "metadata": {},
     "output_type": "execute_result"
    }
   ],
   "source": [
    "# check most common tags used in the training set\n",
    "count_of_tag.most_common(5)"
   ]
  },
  {
   "cell_type": "code",
   "execution_count": 45,
   "metadata": {},
   "outputs": [
    {
     "data": {
      "text/plain": [
       "Counter({'NUM': 34,\n",
       "         'VERB': 19,\n",
       "         'DET': 18,\n",
       "         'ADJ': 7,\n",
       "         'NOUN': 37,\n",
       "         'ADP': 22,\n",
       "         '.': 10,\n",
       "         'CONJ': 7,\n",
       "         'PRT': 6,\n",
       "         'ADV': 1,\n",
       "         'PRON': 4})"
      ]
     },
     "execution_count": 45,
     "metadata": {},
     "output_type": "execute_result"
    }
   ],
   "source": [
    "#Checking the count of incorrectly tagged words\n",
    "wrong_counts_of_tag = Counter(pair[1][0][1] for pair in incorrect_tagged_cases)\n",
    "wrong_counts_of_tag"
   ]
  },
  {
   "cell_type": "code",
   "execution_count": 46,
   "metadata": {},
   "outputs": [
    {
     "name": "stdout",
     "output_type": "stream",
     "text": [
      "0.20591201799984482\n"
     ]
    },
    {
     "data": {
      "text/plain": [
       "[('earned', 'VERB'),\n",
       " ('noted', 'VERB'),\n",
       " ('harmed', 'VERB'),\n",
       " ('offered', 'VERB'),\n",
       " ('based', 'VERB'),\n",
       " ('traded', 'VERB'),\n",
       " ('assigned', 'VERB'),\n",
       " ('applied', 'VERB'),\n",
       " ('compared', 'VERB'),\n",
       " ('obligated', 'VERB'),\n",
       " ('disclosed', 'VERB'),\n",
       " ('inspired', 'VERB'),\n",
       " ('unveiled', 'VERB'),\n",
       " ('introduced', 'VERB'),\n",
       " ('advanced', 'VERB'),\n",
       " ('extended', 'VERB'),\n",
       " ('vowed', 'VERB'),\n",
       " ('blurred', 'VERB'),\n",
       " ('hampered', 'VERB'),\n",
       " ('closed', 'VERB')]"
      ]
     },
     "execution_count": 46,
     "metadata": {},
     "output_type": "execute_result"
    }
   ],
   "source": [
    "# Check the percentage of verbs which are classifed as 'verb and ends with an'ed'\n",
    "verbs = [pair for pair in train_tagged_words if pair[1]=='VERB']\n",
    "ed_verbs = [pair for pair in verbs if pair[0].endswith('ed')]\n",
    "print(len(ed_verbs) / len(verbs))\n",
    "ed_verbs[:20]"
   ]
  },
  {
   "cell_type": "markdown",
   "metadata": {},
   "source": [
    "20.5% of words are verbs that ends with an 'ed'."
   ]
  },
  {
   "cell_type": "code",
   "execution_count": 47,
   "metadata": {},
   "outputs": [
    {
     "name": "stdout",
     "output_type": "stream",
     "text": [
      "0.10768872682132051\n"
     ]
    },
    {
     "data": {
      "text/plain": [
       "[('falling', 'VERB'),\n",
       " ('closing', 'VERB'),\n",
       " ('eliminating', 'VERB'),\n",
       " ('offering', 'VERB'),\n",
       " ('yielding', 'VERB'),\n",
       " ('winding', 'VERB'),\n",
       " ('speculating', 'VERB'),\n",
       " ('saying', 'VERB'),\n",
       " ('wrestling', 'VERB'),\n",
       " ('reading', 'VERB'),\n",
       " ('paying', 'VERB'),\n",
       " ('cooperating', 'VERB'),\n",
       " ('investigating', 'VERB'),\n",
       " ('buying', 'VERB'),\n",
       " ('seeking', 'VERB'),\n",
       " ('operating', 'VERB'),\n",
       " ('ending', 'VERB'),\n",
       " ('thinking', 'VERB'),\n",
       " ('helping', 'VERB'),\n",
       " ('existing', 'VERB')]"
      ]
     },
     "execution_count": 47,
     "metadata": {},
     "output_type": "execute_result"
    }
   ],
   "source": [
    "# # Check the percentage of verbs which are classifed as 'verb and ends with an'ing'\n",
    "verbs = [pair for pair in train_tagged_words if pair[1]=='VERB']\n",
    "ing_verbs = [pair for pair in verbs if pair[0].endswith('ing')]\n",
    "print(len(ing_verbs) / len(verbs))\n",
    "ing_verbs[:20]"
   ]
  },
  {
   "cell_type": "markdown",
   "metadata": {},
   "source": [
    "10.7% of words are verbs that ends with an 'ing'."
   ]
  },
  {
   "cell_type": "code",
   "execution_count": 48,
   "metadata": {},
   "outputs": [
    {
     "name": "stdout",
     "output_type": "stream",
     "text": [
      "6048\n",
      "4237\n",
      "0.7005621693121693\n"
     ]
    }
   ],
   "source": [
    "#Find the percentage of Adjective tags followed by nouns\n",
    "# create a list of all tags without using of words\n",
    "tags_without_words = [pair[1] for pair in train_tagged_words]\n",
    "\n",
    "# create a list of Adj tags\n",
    "adj_tags = [t for t in tags_without_words if t == 'ADJ']\n",
    "\n",
    "# create a list of (ADJ, Noun) tags\n",
    "adj_noun_tags = [(t, tags_without_words[index+1]) for index, t in enumerate(tags_without_words) \n",
    "              if t=='ADJ' and tags_without_words[index+1]=='NOUN']\n",
    "\n",
    "print(len(adj_tags))\n",
    "print(len(adj_noun_tags))\n",
    "print(len(adj_noun_tags) / len(adj_tags))"
   ]
  },
  {
   "cell_type": "markdown",
   "metadata": {},
   "source": [
    "70.05% of words are tagged as Adjectives followed by Nouns."
   ]
  },
  {
   "cell_type": "code",
   "execution_count": 50,
   "metadata": {},
   "outputs": [
    {
     "name": "stdout",
     "output_type": "stream",
     "text": [
      "8293\n",
      "5301\n",
      "0.6392137947666707\n"
     ]
    }
   ],
   "source": [
    "#Now, lets find the percentage of Determinent tags followed by nouns\n",
    "det_tags = [t for t in tags_without_words if t == 'DET']\n",
    "det_noun_tags = [(t, tags_without_words[index+1]) for index, t in enumerate(tags_without_words) \n",
    "              if t=='DET' and tags_without_words[index+1]=='NOUN']\n",
    "\n",
    "print(len(det_tags))\n",
    "print(len(det_noun_tags))\n",
    "print(len(det_noun_tags) / len(det_tags))"
   ]
  },
  {
   "cell_type": "markdown",
   "metadata": {},
   "source": [
    "63.92% of words are tagged as Determinents followed by Nouns."
   ]
  },
  {
   "cell_type": "code",
   "execution_count": 51,
   "metadata": {},
   "outputs": [
    {
     "name": "stdout",
     "output_type": "stream",
     "text": [
      "3008\n",
      "1039\n",
      "0.34541223404255317\n"
     ]
    }
   ],
   "source": [
    "#Now, find the percentage of Adverbs tags followed by Verbs\n",
    "adverb_tags = [t for t in tags_without_words if t == 'ADV']\n",
    "adverb_vb_tags = [(t, tags_without_words[index+1]) for index, t in enumerate(tags_without_words) \n",
    "              if t=='ADV' and tags_without_words[index+1]=='VERB']\n",
    "\n",
    "print(len(adverb_tags))\n",
    "print(len(adverb_vb_tags))\n",
    "print(len(adverb_vb_tags) / len(adverb_tags))"
   ]
  },
  {
   "cell_type": "markdown",
   "metadata": {},
   "source": [
    "34.54% of words are tagged as Adverbs followed by Verbs."
   ]
  },
  {
   "cell_type": "markdown",
   "metadata": {},
   "source": [
    "So, now will use the above EDA done and the grammar to build the rules for regex based tagger."
   ]
  },
  {
   "cell_type": "code",
   "execution_count": 52,
   "metadata": {},
   "outputs": [],
   "source": [
    "# patterns for tagging\n",
    "patterns = [\n",
    "    (r'.*ing$', 'VERB'),              # Countinueous tense verbs\n",
    "    (r'.*ed$', 'VERB'),               # past tense verbs\n",
    "    (r'.*es$', 'VERB'),               # singular present verbs\n",
    "    (r'.*ould$', 'VERB'),              # modal verbs\n",
    "    (r'.*\\'s$', 'NOUN'),              # possessive nouns\n",
    "    (r'.*s$', 'NOUN'),                # plural nouns\n",
    "    (r'^-?[0-9]+(.[0-9]+)?$', 'NUM'), # cardinal numbers\n",
    "    (r'(The|the|A|a|An|an)$', 'DET'),   # articles or determinants\n",
    "    (r'.*able$', 'ADJ'),                # adjectives\n",
    "    (r'.*ness$', 'NOUN'),                # nouns formed from adjectives\n",
    "    (r'.*ly$', 'ADV'),                  # adverbs\n",
    "    (r'.*', 'NOUN')                    # nouns\n",
    "]"
   ]
  },
  {
   "cell_type": "code",
   "execution_count": 79,
   "metadata": {},
   "outputs": [
    {
     "name": "stdout",
     "output_type": "stream",
     "text": [
      "0.9032588645214183\n"
     ]
    }
   ],
   "source": [
    "#Unigram tagger\n",
    "unigram_tagger = nltk.UnigramTagger(train_set)\n",
    "accuracy_unigram_tagger = unigram_tagger.evaluate(test_set)\n",
    "print(accuracy_unigram_tagger)"
   ]
  },
  {
   "cell_type": "code",
   "execution_count": 78,
   "metadata": {},
   "outputs": [
    {
     "name": "stdout",
     "output_type": "stream",
     "text": [
      "0.9485550317688051\n"
     ]
    }
   ],
   "source": [
    "# rule based tagger\n",
    "rule_based_tagger = nltk.RegexpTagger(patterns)\n",
    "\n",
    "# lexicon unigram tagger w.r.t the rule-based tagger\n",
    "lexicon_tagger = nltk.UnigramTagger(train_set, backoff=rule_based_tagger)\n",
    "\n",
    "accuracy_lexicon=lexicon_tagger.evaluate(test_set)\n",
    "print(accuracy_lexicon)"
   ]
  },
  {
   "cell_type": "markdown",
   "metadata": {},
   "source": [
    "We have got a good accuracy using lexicon based tagger w.r.t rule-based tagger i.e, 94.85%.\n",
    "\n",
    "Now, lets check accuracy with Bigram and trigram tagger w.r.t rule-based tagging."
   ]
  },
  {
   "cell_type": "code",
   "execution_count": 55,
   "metadata": {},
   "outputs": [
    {
     "name": "stdout",
     "output_type": "stream",
     "text": [
      "0.9503996720639475\n"
     ]
    }
   ],
   "source": [
    "#Bigram tagger\n",
    "bigram_tagger = nltk.BigramTagger(train_set,backoff=lexicon_tagger)\n",
    "bigram_tagger.evaluate(test_set)\n",
    "accuracy_bigram_tagger = bigram_tagger.evaluate(test_set)\n",
    "print(accuracy_bigram_tagger)"
   ]
  },
  {
   "cell_type": "code",
   "execution_count": 57,
   "metadata": {},
   "outputs": [
    {
     "name": "stdout",
     "output_type": "stream",
     "text": [
      "0.9503996720639475\n"
     ]
    }
   ],
   "source": [
    "#Trigram tagger\n",
    "trigram_tagger = nltk.TrigramTagger(train_set, backoff=bigram_tagger)\n",
    "trigram_tagger.evaluate(test_set)\n",
    "accuracy_trigram_tagger = trigram_tagger.evaluate(test_set)\n",
    "print(accuracy_trigram_tagger)"
   ]
  },
  {
   "cell_type": "markdown",
   "metadata": {},
   "source": [
    "In case of Bigram and trigram tagger, the accuracy is almost same. So, lets check whether we can use this of unknown words.\n",
    "\n",
    "To build this model into viterbi algorithm, we need to change the regex patterns to fit for the tags in our data (NOUN instead of NNS etc)."
   ]
  },
  {
   "cell_type": "code",
   "execution_count": 59,
   "metadata": {},
   "outputs": [
    {
     "name": "stdout",
     "output_type": "stream",
     "text": [
      "{'NUM', 'VERB', 'ADP', 'NOUN', '.', 'PRON', 'ADV', 'PRT', 'CONJ', 'DET', 'X', 'ADJ'}\n"
     ]
    }
   ],
   "source": [
    "print(T)"
   ]
  },
  {
   "cell_type": "code",
   "execution_count": 60,
   "metadata": {},
   "outputs": [],
   "source": [
    "def trigram_tagger(word,train_set = train_set):\n",
    "    patterns1 = [\n",
    "    (r'.*ing$', 'VERB'),              # contonuous tense verbs\n",
    "    (r'.*ed$', 'VERB'),               # past tense\n",
    "    (r'.*es$', 'VERB'),               # 3rd singular present\n",
    "    (r'.*ould$', 'X'),                # modals\n",
    "    (r'.*\\'s$', 'NOUN'),              # possessive nouns\n",
    "    (r'.*s$', 'NOUN'),                # plural nouns\n",
    "    (r'^-?[0-9]+(.[0-9]+)?$', 'NUM'), # cardinal numbers\n",
    "    (r'.*', 'NOUN')                   # nouns\n",
    "    ]\n",
    "    regex_based_tagger = nltk.RegexpTagger(patterns1)\n",
    "\n",
    "    # trigram backed up by the regex tagger\n",
    "    trigram_regex_tagger = nltk.TrigramTagger(train_set, backoff=regex_based_tagger)\n",
    "    return trigram_regex_tagger.tag_sents([[(word)]])"
   ]
  },
  {
   "cell_type": "code",
   "execution_count": 64,
   "metadata": {},
   "outputs": [],
   "source": [
    "# viterbi alogorithm handling the unknown words from regex tagger\n",
    "def Viterbi_modified_algo(words, train_bag = train_tagged_words):\n",
    "    state = []\n",
    "    T = list(set([pair[1] for pair in train_bag]))\n",
    "    \n",
    "    for key, word in enumerate(words):\n",
    "        # unknown words from trigram taggr\n",
    "        if word not in tokens:\n",
    "            unk_word_tag=trigram_tagger(word)\n",
    "            for sent in unk_word_tag:\n",
    "                for tup in sent:\n",
    "                    state.append(tup[1])\n",
    "        # rest remains same            \n",
    "        else:            \n",
    "            p = [] \n",
    "            for tag in T:\n",
    "                if key == 0:\n",
    "                    transition_p = df_tags.loc['.', tag]\n",
    "                else:\n",
    "                    transition_p = df_tags.loc[state[-1], tag]\n",
    "                \n",
    "            # compute emission and state probabilities\n",
    "                emission_p = word_given_tag(words[key], tag)[0]/word_given_tag(words[key], tag)[1]\n",
    "                state_probability = emission_p * transition_p    \n",
    "                p.append(state_probability)\n",
    "            \n",
    "            pmax = max(p)\n",
    "            # getting state for which probability is maximum\n",
    "            state_max = T[p.index(pmax)] \n",
    "            state.append(state_max)\n",
    "            \n",
    "    return list(zip(words, state))"
   ]
  },
  {
   "cell_type": "code",
   "execution_count": 65,
   "metadata": {},
   "outputs": [],
   "source": [
    "#tagging the sentences\n",
    "start = time.time()\n",
    "tagged_seq = Viterbi_modified_algo(test_tagged_words)\n",
    "end = time.time()\n",
    "difference = end-start"
   ]
  },
  {
   "cell_type": "code",
   "execution_count": 72,
   "metadata": {},
   "outputs": [
    {
     "name": "stdout",
     "output_type": "stream",
     "text": [
      "58.17176699638367\n"
     ]
    }
   ],
   "source": [
    "print(difference)"
   ]
  },
  {
   "cell_type": "markdown",
   "metadata": {},
   "source": [
    "#### Evaluating tagging accuracy"
   ]
  },
  {
   "cell_type": "code",
   "execution_count": 69,
   "metadata": {},
   "outputs": [
    {
     "data": {
      "text/plain": [
       "['Without',\n",
       " 'the',\n",
       " 'Cray-3',\n",
       " 'research',\n",
       " 'and',\n",
       " 'development',\n",
       " 'expenses',\n",
       " ',',\n",
       " 'the',\n",
       " 'company',\n",
       " 'would',\n",
       " 'have',\n",
       " 'been',\n",
       " 'able',\n",
       " '*-2',\n",
       " 'to',\n",
       " 'report',\n",
       " 'a',\n",
       " 'profit',\n",
       " 'of',\n",
       " '$',\n",
       " '19.3',\n",
       " 'million',\n",
       " '*U*',\n",
       " '*ICH*-3',\n",
       " 'for',\n",
       " 'the',\n",
       " 'first',\n",
       " 'half',\n",
       " 'of',\n",
       " '1989',\n",
       " 'rather',\n",
       " 'than',\n",
       " 'the',\n",
       " '$',\n",
       " '5.9',\n",
       " 'million',\n",
       " '*U*',\n",
       " '0',\n",
       " 'it',\n",
       " 'posted',\n",
       " '*T*-1',\n",
       " '.',\n",
       " 'But',\n",
       " 'the',\n",
       " 'growing',\n",
       " 'controversy',\n",
       " 'comes',\n",
       " 'as',\n",
       " 'many',\n",
       " 'practices',\n",
       " 'historically',\n",
       " 'accepted',\n",
       " '*',\n",
       " 'as',\n",
       " 'normal',\n",
       " 'here',\n",
       " '--',\n",
       " 'such',\n",
       " 'as',\n",
       " 'politicians',\n",
       " 'accepting',\n",
       " 'substantial',\n",
       " 'gifts',\n",
       " 'from',\n",
       " 'businessmen',\n",
       " 'or',\n",
       " 'having',\n",
       " 'extramarital',\n",
       " 'affairs',\n",
       " '--',\n",
       " 'are',\n",
       " 'coming',\n",
       " 'under',\n",
       " 'close',\n",
       " 'ethical',\n",
       " 'scrutiny',\n",
       " '.',\n",
       " \"Dunkin'\",\n",
       " 'has',\n",
       " 'set',\n",
       " 'Nov.',\n",
       " '10',\n",
       " 'as',\n",
       " 'the',\n",
       " 'deadline',\n",
       " 'for',\n",
       " 'the',\n",
       " 'receipt',\n",
       " 'of',\n",
       " 'any',\n",
       " 'competing',\n",
       " 'bids',\n",
       " '.',\n",
       " 'R.P.',\n",
       " 'Scherer',\n",
       " 'Corp.',\n",
       " 'said',\n",
       " '0',\n",
       " 'it',\n",
       " 'completed',\n",
       " 'the',\n",
       " '$',\n",
       " '10.2',\n",
       " 'million',\n",
       " '*U*',\n",
       " 'sale',\n",
       " 'of',\n",
       " 'its',\n",
       " 'Southern',\n",
       " 'Optical',\n",
       " 'subsidiary',\n",
       " 'to',\n",
       " 'a',\n",
       " 'group',\n",
       " 'led',\n",
       " '*',\n",
       " 'by',\n",
       " 'the',\n",
       " 'unit',\n",
       " \"'s\",\n",
       " 'president',\n",
       " ',',\n",
       " 'Thomas',\n",
       " 'R.',\n",
       " 'Sloan',\n",
       " ',',\n",
       " 'and',\n",
       " 'other',\n",
       " 'managers',\n",
       " '.',\n",
       " 'DD',\n",
       " 'Acquisition',\n",
       " 'Corp.',\n",
       " ',',\n",
       " 'a',\n",
       " 'partnership',\n",
       " 'of',\n",
       " 'Unicorp',\n",
       " 'Canada',\n",
       " 'Corp.',\n",
       " \"'s\",\n",
       " 'Kingsbridge',\n",
       " 'Capital',\n",
       " 'Group',\n",
       " 'and',\n",
       " 'Cara',\n",
       " 'Operations',\n",
       " 'Ltd.',\n",
       " ',',\n",
       " 'extended',\n",
       " 'to',\n",
       " 'Nov.',\n",
       " '20',\n",
       " 'its',\n",
       " '$',\n",
       " '45-a-share',\n",
       " 'offer',\n",
       " 'for',\n",
       " 'all',\n",
       " \"Dunkin'\",\n",
       " 'Donuts',\n",
       " 'Inc.',\n",
       " 'shares',\n",
       " 'outstanding',\n",
       " '.']"
      ]
     },
     "execution_count": 69,
     "metadata": {},
     "output_type": "execute_result"
    }
   ],
   "source": [
    "test_run_base = [tup for sent in test_run for tup in sent]\n",
    "\n",
    "#get the list of untagged words\n",
    "test_tagged_words = [tup[0] for sent in test_run for tup in sent]\n",
    "test_tagged_words"
   ]
  },
  {
   "cell_type": "code",
   "execution_count": 71,
   "metadata": {},
   "outputs": [],
   "source": [
    "# tagging the test sentences\n",
    "start = time.time()\n",
    "tagged_seq_modified = Viterbi_modified_algo(test_tagged_words)\n",
    "end = time.time()\n",
    "difference = end-start"
   ]
  },
  {
   "cell_type": "code",
   "execution_count": 73,
   "metadata": {},
   "outputs": [
    {
     "name": "stdout",
     "output_type": "stream",
     "text": [
      "58.17176699638367\n",
      "[('Without', 'ADP'), ('the', 'DET'), ('Cray-3', 'NOUN'), ('research', 'NOUN'), ('and', 'CONJ'), ('development', 'NOUN'), ('expenses', 'NOUN'), (',', '.'), ('the', 'DET'), ('company', 'NOUN'), ('would', 'VERB'), ('have', 'VERB'), ('been', 'VERB'), ('able', 'ADJ'), ('*-2', 'X'), ('to', 'PRT'), ('report', 'NOUN'), ('a', 'DET'), ('profit', 'NOUN'), ('of', 'ADP'), ('$', '.'), ('19.3', 'NUM'), ('million', 'NUM'), ('*U*', 'X'), ('*ICH*-3', 'X'), ('for', 'ADP'), ('the', 'DET'), ('first', 'ADJ'), ('half', 'NOUN'), ('of', 'ADP'), ('1989', 'NUM'), ('rather', 'ADV'), ('than', 'ADP'), ('the', 'DET'), ('$', '.'), ('5.9', 'NUM'), ('million', 'NUM'), ('*U*', 'X'), ('0', 'X'), ('it', 'PRON'), ('posted', 'VERB'), ('*T*-1', 'X'), ('.', '.'), ('But', 'CONJ'), ('the', 'DET'), ('growing', 'VERB'), ('controversy', 'NOUN'), ('comes', 'VERB'), ('as', 'ADP'), ('many', 'ADJ'), ('practices', 'NOUN'), ('historically', 'ADV'), ('accepted', 'VERB'), ('*', 'X'), ('as', 'ADP'), ('normal', 'ADJ'), ('here', 'ADV'), ('--', '.'), ('such', 'ADJ'), ('as', 'ADP'), ('politicians', 'NOUN'), ('accepting', 'VERB'), ('substantial', 'ADJ'), ('gifts', 'NOUN'), ('from', 'ADP'), ('businessmen', 'NOUN'), ('or', 'CONJ'), ('having', 'VERB'), ('extramarital', 'NOUN'), ('affairs', 'NOUN'), ('--', '.'), ('are', 'VERB'), ('coming', 'VERB'), ('under', 'ADP'), ('close', 'NOUN'), ('ethical', 'ADJ'), ('scrutiny', 'NOUN'), ('.', '.'), (\"Dunkin'\", 'NOUN'), ('has', 'VERB'), ('set', 'VERB'), ('Nov.', 'NOUN'), ('10', 'NUM'), ('as', 'ADP'), ('the', 'DET'), ('deadline', 'NOUN'), ('for', 'ADP'), ('the', 'DET'), ('receipt', 'NOUN'), ('of', 'ADP'), ('any', 'DET'), ('competing', 'VERB'), ('bids', 'NOUN'), ('.', '.'), ('R.P.', 'NOUN'), ('Scherer', 'NOUN'), ('Corp.', 'NOUN'), ('said', 'VERB'), ('0', 'X'), ('it', 'PRON'), ('completed', 'VERB'), ('the', 'DET'), ('$', '.'), ('10.2', 'NUM'), ('million', 'NUM'), ('*U*', 'X'), ('sale', 'NOUN'), ('of', 'ADP'), ('its', 'PRON'), ('Southern', 'NOUN'), ('Optical', 'NOUN'), ('subsidiary', 'NOUN'), ('to', 'PRT'), ('a', 'DET'), ('group', 'NOUN'), ('led', 'VERB'), ('*', 'X'), ('by', 'ADP'), ('the', 'DET'), ('unit', 'NOUN'), (\"'s\", 'PRT'), ('president', 'NOUN'), (',', '.'), ('Thomas', 'NOUN'), ('R.', 'NOUN'), ('Sloan', 'NOUN'), (',', '.'), ('and', 'CONJ'), ('other', 'ADJ'), ('managers', 'NOUN'), ('.', '.'), ('DD', 'NOUN'), ('Acquisition', 'NOUN'), ('Corp.', 'NOUN'), (',', '.'), ('a', 'DET'), ('partnership', 'NOUN'), ('of', 'ADP'), ('Unicorp', 'NOUN'), ('Canada', 'NOUN'), ('Corp.', 'NOUN'), (\"'s\", 'PRT'), ('Kingsbridge', 'NOUN'), ('Capital', 'NOUN'), ('Group', 'NOUN'), ('and', 'CONJ'), ('Cara', 'NOUN'), ('Operations', 'NOUN'), ('Ltd.', 'NOUN'), (',', '.'), ('extended', 'VERB'), ('to', 'PRT'), ('Nov.', 'NOUN'), ('20', 'NUM'), ('its', 'PRON'), ('$', '.'), ('45-a-share', 'NOUN'), ('offer', 'NOUN'), ('for', 'ADP'), ('all', 'DET'), (\"Dunkin'\", 'NOUN'), ('Donuts', 'NOUN'), ('Inc.', 'NOUN'), ('shares', 'NOUN'), ('outstanding', 'ADJ'), ('.', '.')]\n"
     ]
    }
   ],
   "source": [
    "print(difference)\n",
    "print(tagged_seq_modified)"
   ]
  },
  {
   "cell_type": "code",
   "execution_count": 75,
   "metadata": {},
   "outputs": [
    {
     "data": {
      "text/plain": [
       "0.963855421686747"
      ]
     },
     "execution_count": 75,
     "metadata": {},
     "output_type": "execute_result"
    }
   ],
   "source": [
    "# check accuracy\n",
    "accuracy1 = [i for i, j in zip(tagged_seq_modified, test_run_base) if i == j]\n",
    "accuracy_viterbi_modified = len(accuracy1)/len(tagged_seq_modified)\n",
    "accuracy_viterbi_modified"
   ]
  },
  {
   "cell_type": "markdown",
   "metadata": {},
   "source": [
    "### Compare the tagging accuracies of the modifications with the vanilla Viterbi algorithm"
   ]
  },
  {
   "cell_type": "code",
   "execution_count": 85,
   "metadata": {},
   "outputs": [
    {
     "name": "stdout",
     "output_type": "stream",
     "text": [
      "0.9156626506024096\n"
     ]
    }
   ],
   "source": [
    "print(accuracy_vannila_viterbi)"
   ]
  },
  {
   "cell_type": "code",
   "execution_count": 81,
   "metadata": {},
   "outputs": [
    {
     "name": "stdout",
     "output_type": "stream",
     "text": [
      "0.9032588645214183\n"
     ]
    }
   ],
   "source": [
    "print(accuracy_unigram_tagger)"
   ]
  },
  {
   "cell_type": "code",
   "execution_count": 82,
   "metadata": {},
   "outputs": [
    {
     "name": "stdout",
     "output_type": "stream",
     "text": [
      "0.9503996720639475\n"
     ]
    }
   ],
   "source": [
    "print(accuracy_bigram_tagger)"
   ]
  },
  {
   "cell_type": "code",
   "execution_count": 83,
   "metadata": {},
   "outputs": [
    {
     "name": "stdout",
     "output_type": "stream",
     "text": [
      "0.9503996720639475\n"
     ]
    }
   ],
   "source": [
    "print(accuracy_trigram_tagger)"
   ]
  },
  {
   "cell_type": "code",
   "execution_count": 84,
   "metadata": {},
   "outputs": [
    {
     "name": "stdout",
     "output_type": "stream",
     "text": [
      "0.963855421686747\n"
     ]
    }
   ],
   "source": [
    "print(accuracy_viterbi_modified)"
   ]
  },
  {
   "cell_type": "markdown",
   "metadata": {},
   "source": [
    "Accuracy is more increased by using Viterbi modified algorithm."
   ]
  },
  {
   "cell_type": "markdown",
   "metadata": {},
   "source": [
    "### List down cases which were incorrectly tagged by original POS tagger and got corrected by your modifications"
   ]
  },
  {
   "cell_type": "code",
   "execution_count": 87,
   "metadata": {},
   "outputs": [
    {
     "name": "stdout",
     "output_type": "stream",
     "text": [
      "[('Android', 'NUM'), ('is', 'VERB'), ('a', 'DET'), ('mobile', 'ADJ'), ('operating', 'NOUN'), ('system', 'NOUN'), ('developed', 'VERB'), ('by', 'ADP'), ('Google', 'NUM'), ('.', '.')]\n",
      "[('Android', 'NUM'), ('has', 'VERB'), ('been', 'VERB'), ('the', 'DET'), ('best-selling', 'ADJ'), ('OS', 'NUM'), ('worldwide', 'NUM'), ('on', 'ADP'), ('smartphones', 'NUM'), ('since', 'ADP'), ('2011', 'NUM'), ('and', 'CONJ'), ('on', 'ADP'), ('tablets', 'NOUN'), ('since', 'ADP'), ('2013', 'NUM'), ('.', '.')]\n",
      "[('Google', 'NUM'), ('and', 'CONJ'), ('Twitter', 'NUM'), ('made', 'VERB'), ('a', 'DET'), ('deal', 'NOUN'), ('in', 'ADP'), ('2015', 'NUM'), ('that', 'ADP'), ('gave', 'VERB'), ('Google', 'NUM'), ('access', 'NOUN'), ('to', 'PRT'), ('Twitter', 'NUM'), (\"'s\", 'PRT'), ('firehose', 'NUM'), ('.', '.')]\n",
      "[('Twitter', 'NUM'), ('is', 'VERB'), ('an', 'DET'), ('online', 'NUM'), ('news', 'NOUN'), ('and', 'CONJ'), ('social', 'ADJ'), ('networking', 'NOUN'), ('service', 'NOUN'), ('on', 'ADP'), ('which', 'DET'), ('users', 'NOUN'), ('post', 'NOUN'), ('and', 'CONJ'), ('interact', 'NUM'), ('with', 'ADP'), ('messages', 'NUM'), ('known', 'VERB'), ('as', 'ADP'), ('tweets', 'NUM'), ('.', '.')]\n",
      "[('Before', 'ADP'), ('entering', 'VERB'), ('politics', 'NOUN'), (',', '.'), ('Donald', 'NOUN'), ('Trump', 'NOUN'), ('was', 'VERB'), ('a', 'DET'), ('domineering', 'NUM'), ('businessman', 'NOUN'), ('and', 'CONJ'), ('a', 'DET'), ('television', 'NOUN'), ('personality', 'NUM'), ('.', '.')]\n",
      "[('The', 'DET'), ('2018', 'NUM'), ('FIFA', 'NUM'), ('World', 'NOUN'), ('Cup', 'NUM'), ('is', 'VERB'), ('the', 'DET'), ('21st', 'NUM'), ('FIFA', 'NUM'), ('World', 'NOUN'), ('Cup', 'NUM'), (',', '.'), ('an', 'DET'), ('international', 'ADJ'), ('football', 'NOUN'), ('tournament', 'NUM'), ('contested', 'NUM'), ('once', 'ADV'), ('every', 'DET'), ('four', 'NUM'), ('years', 'NOUN'), ('.', '.')]\n",
      "[('This', 'DET'), ('is', 'VERB'), ('the', 'DET'), ('first', 'ADJ'), ('World', 'NOUN'), ('Cup', 'NUM'), ('to', 'PRT'), ('be', 'VERB'), ('held', 'VERB'), ('in', 'ADP'), ('Eastern', 'NOUN'), ('Europe', 'NOUN'), ('and', 'CONJ'), ('the', 'DET'), ('11th', 'ADJ'), ('time', 'NOUN'), ('that', 'ADP'), ('it', 'PRON'), ('has', 'VERB'), ('been', 'VERB'), ('held', 'VERB'), ('in', 'ADP'), ('Europe', 'NOUN'), ('.', '.')]\n",
      "[('Show', 'NOUN'), ('me', 'PRON'), ('the', 'DET'), ('cheapest', 'ADJ'), ('round', 'NOUN'), ('trips', 'NUM'), ('from', 'ADP'), ('Dallas', 'NOUN'), ('to', 'PRT'), ('Atlanta', 'NOUN')]\n",
      "[('I', 'PRON'), ('would', 'VERB'), ('like', 'ADP'), ('to', 'PRT'), ('see', 'VERB'), ('flights', 'NOUN'), ('from', 'ADP'), ('Denver', 'NOUN'), ('to', 'PRT'), ('Philadelphia', 'NOUN'), ('.', '.')]\n",
      "[('Show', 'NOUN'), ('me', 'PRON'), ('the', 'DET'), ('price', 'NOUN'), ('of', 'ADP'), ('the', 'DET'), ('flights', 'NOUN'), ('leaving', 'VERB'), ('Atlanta', 'NOUN'), ('at', 'ADP'), ('about', 'ADP'), ('3', 'NUM'), ('in', 'ADP'), ('the', 'DET'), ('afternoon', 'NOUN'), ('and', 'CONJ'), ('arriving', 'NUM'), ('in', 'ADP'), ('San', 'NOUN'), ('Francisco', 'NOUN'), ('.', '.')]\n",
      "[('NASA', 'NUM'), ('invited', 'NUM'), ('social', 'ADJ'), ('media', 'NOUN'), ('users', 'NOUN'), ('to', 'PRT'), ('experience', 'NOUN'), ('the', 'DET'), ('launch', 'NOUN'), ('of', 'ADP'), ('ICESAT-2', 'NUM'), ('Satellite', 'NUM'), ('.', '.')]\n"
     ]
    }
   ],
   "source": [
    "#Let us print the test lines with the Vanilla Viterbi algorithm i.e, the initial tagging\n",
    "for line in testset_lines:\n",
    "    print(list(Viterbi(word_tokenize(line))))"
   ]
  },
  {
   "cell_type": "code",
   "execution_count": 89,
   "metadata": {},
   "outputs": [
    {
     "name": "stdout",
     "output_type": "stream",
     "text": [
      "[('Android', 'NOUN'), ('is', 'VERB'), ('a', 'DET'), ('mobile', 'ADJ'), ('operating', 'NOUN'), ('system', 'NOUN'), ('developed', 'VERB'), ('by', 'ADP'), ('Google', 'NOUN'), ('.', '.')]\n",
      "[('Android', 'NOUN'), ('has', 'VERB'), ('been', 'VERB'), ('the', 'DET'), ('best-selling', 'ADJ'), ('OS', 'NOUN'), ('worldwide', 'NOUN'), ('on', 'ADP'), ('smartphones', 'VERB'), ('since', 'ADP'), ('2011', 'NUM'), ('and', 'CONJ'), ('on', 'ADP'), ('tablets', 'NOUN'), ('since', 'ADP'), ('2013', 'NUM'), ('.', '.')]\n",
      "[('Google', 'NOUN'), ('and', 'CONJ'), ('Twitter', 'NOUN'), ('made', 'VERB'), ('a', 'DET'), ('deal', 'NOUN'), ('in', 'ADP'), ('2015', 'NUM'), ('that', 'ADP'), ('gave', 'VERB'), ('Google', 'NOUN'), ('access', 'NOUN'), ('to', 'PRT'), ('Twitter', 'NOUN'), (\"'s\", 'PRT'), ('firehose', 'NOUN'), ('.', '.')]\n",
      "[('Twitter', 'NOUN'), ('is', 'VERB'), ('an', 'DET'), ('online', 'NOUN'), ('news', 'NOUN'), ('and', 'CONJ'), ('social', 'ADJ'), ('networking', 'NOUN'), ('service', 'NOUN'), ('on', 'ADP'), ('which', 'DET'), ('users', 'NOUN'), ('post', 'NOUN'), ('and', 'CONJ'), ('interact', 'NOUN'), ('with', 'ADP'), ('messages', 'VERB'), ('known', 'VERB'), ('as', 'ADP'), ('tweets', 'NOUN'), ('.', '.')]\n",
      "[('Before', 'ADP'), ('entering', 'VERB'), ('politics', 'NOUN'), (',', '.'), ('Donald', 'NOUN'), ('Trump', 'NOUN'), ('was', 'VERB'), ('a', 'DET'), ('domineering', 'VERB'), ('businessman', 'NOUN'), ('and', 'CONJ'), ('a', 'DET'), ('television', 'NOUN'), ('personality', 'NOUN'), ('.', '.')]\n",
      "[('The', 'DET'), ('2018', 'NUM'), ('FIFA', 'NOUN'), ('World', 'NOUN'), ('Cup', 'NOUN'), ('is', 'VERB'), ('the', 'DET'), ('21st', 'NOUN'), ('FIFA', 'NOUN'), ('World', 'NOUN'), ('Cup', 'NOUN'), (',', '.'), ('an', 'DET'), ('international', 'ADJ'), ('football', 'NOUN'), ('tournament', 'NOUN'), ('contested', 'VERB'), ('once', 'ADV'), ('every', 'DET'), ('four', 'NUM'), ('years', 'NOUN'), ('.', '.')]\n",
      "[('This', 'DET'), ('is', 'VERB'), ('the', 'DET'), ('first', 'ADJ'), ('World', 'NOUN'), ('Cup', 'NOUN'), ('to', 'PRT'), ('be', 'VERB'), ('held', 'VERB'), ('in', 'ADP'), ('Eastern', 'NOUN'), ('Europe', 'NOUN'), ('and', 'CONJ'), ('the', 'DET'), ('11th', 'ADJ'), ('time', 'NOUN'), ('that', 'ADP'), ('it', 'PRON'), ('has', 'VERB'), ('been', 'VERB'), ('held', 'VERB'), ('in', 'ADP'), ('Europe', 'NOUN'), ('.', '.')]\n",
      "[('Show', 'NOUN'), ('me', 'PRON'), ('the', 'DET'), ('cheapest', 'ADJ'), ('round', 'NOUN'), ('trips', 'NOUN'), ('from', 'ADP'), ('Dallas', 'NOUN'), ('to', 'PRT'), ('Atlanta', 'NOUN')]\n",
      "[('I', 'PRON'), ('would', 'VERB'), ('like', 'ADP'), ('to', 'PRT'), ('see', 'VERB'), ('flights', 'NOUN'), ('from', 'ADP'), ('Denver', 'NOUN'), ('to', 'PRT'), ('Philadelphia', 'NOUN'), ('.', '.')]\n",
      "[('Show', 'NOUN'), ('me', 'PRON'), ('the', 'DET'), ('price', 'NOUN'), ('of', 'ADP'), ('the', 'DET'), ('flights', 'NOUN'), ('leaving', 'VERB'), ('Atlanta', 'NOUN'), ('at', 'ADP'), ('about', 'ADP'), ('3', 'NUM'), ('in', 'ADP'), ('the', 'DET'), ('afternoon', 'NOUN'), ('and', 'CONJ'), ('arriving', 'VERB'), ('in', 'ADP'), ('San', 'NOUN'), ('Francisco', 'NOUN'), ('.', '.')]\n",
      "[('NASA', 'NOUN'), ('invited', 'VERB'), ('social', 'ADJ'), ('media', 'NOUN'), ('users', 'NOUN'), ('to', 'PRT'), ('experience', 'NOUN'), ('the', 'DET'), ('launch', 'NOUN'), ('of', 'ADP'), ('ICESAT-2', 'NOUN'), ('Satellite', 'NOUN'), ('.', '.')]\n"
     ]
    }
   ],
   "source": [
    "#Now, print the test lines with the modified Viterbi algorithm\n",
    "for line in testset_lines:\n",
    "    print(list(Viterbi_modified_algo(word_tokenize(line))))"
   ]
  },
  {
   "cell_type": "markdown",
   "metadata": {},
   "source": [
    "##### So, from above, we can clearly see that most of the words are tagged properly like for eaxmple:\n",
    "    1. Android, Google, and Twitter were not tagged properly but after we modified the viterbi algorithm, it is set 'NOUN'.\n",
    "    2. Words like 'NASA', 'FIFA' are correctly tagged as 'NOUN' (These words are generally an abbrevation and it is a noun)\n",
    "    3. Words ending with '-ing' like 'arriving' and words ending with '-ed' like 'invited' are properly tagged as 'VERB' using the Rule Based Tagging\n",
    "    4. Words with integers or float are tagged as 'NUM' using rule based tagger"
   ]
  },
  {
   "cell_type": "markdown",
   "metadata": {},
   "source": [
    "Let me take single sentences and view the initial and final tagging so that it will be easier to get the differences."
   ]
  },
  {
   "cell_type": "code",
   "execution_count": 90,
   "metadata": {},
   "outputs": [
    {
     "name": "stdout",
     "output_type": "stream",
     "text": [
      "[('Google', 'NUM'), ('and', 'CONJ'), ('Twitter', 'NUM'), ('made', 'VERB'), ('a', 'DET'), ('deal', 'NOUN'), ('in', 'ADP'), ('2015', 'NUM'), ('that', 'ADP'), ('gave', 'VERB'), ('Google', 'NUM'), ('access', 'NOUN'), ('to', 'PRT'), ('Twitter', 'NUM'), (\"'s\", 'PRT'), ('firehose', 'NUM'), ('.', '.')]\n"
     ]
    }
   ],
   "source": [
    "#initial tagging \n",
    "sentence_1 = 'Google and Twitter made a deal in 2015 that gave Google access to Twitter\\'s firehose.'\n",
    "words = word_tokenize(sentence_1)\n",
    "tagged_seq = Viterbi(words)\n",
    "print(tagged_seq)"
   ]
  },
  {
   "cell_type": "code",
   "execution_count": 91,
   "metadata": {},
   "outputs": [
    {
     "name": "stdout",
     "output_type": "stream",
     "text": [
      "[('Google', 'NOUN'), ('and', 'CONJ'), ('Twitter', 'NOUN'), ('made', 'VERB'), ('a', 'DET'), ('deal', 'NOUN'), ('in', 'ADP'), ('2015', 'NUM'), ('that', 'ADP'), ('gave', 'VERB'), ('Google', 'NOUN'), ('access', 'NOUN'), ('to', 'PRT'), ('Twitter', 'NOUN'), (\"'s\", 'PRT'), ('firehose', 'NOUN'), ('.', '.')]\n"
     ]
    }
   ],
   "source": [
    "#modified tagging\n",
    "tagged_seq_modified = Viterbi_modified_algo(words)\n",
    "print(tagged_seq_modified)"
   ]
  },
  {
   "cell_type": "code",
   "execution_count": 92,
   "metadata": {},
   "outputs": [
    {
     "name": "stdout",
     "output_type": "stream",
     "text": [
      "[('Android', 'NUM'), ('has', 'VERB'), ('been', 'VERB'), ('the', 'DET'), ('best-selling', 'ADJ'), ('OS', 'NUM'), ('worldwide', 'NUM'), ('on', 'ADP'), ('smartphones', 'NUM'), ('since', 'ADP'), ('2011', 'NUM'), ('and', 'CONJ'), ('on', 'ADP'), ('tablets', 'NOUN'), ('since', 'ADP'), ('2013', 'NUM'), ('.', '.')]\n"
     ]
    }
   ],
   "source": [
    "#initial tagging\n",
    "sentence_2='Android has been the best-selling OS worldwide on smartphones since 2011 and on tablets since 2013.'\n",
    "words = word_tokenize(sentence_2)\n",
    "tagged_seq = Viterbi(words)\n",
    "print(tagged_seq)"
   ]
  },
  {
   "cell_type": "code",
   "execution_count": 93,
   "metadata": {},
   "outputs": [
    {
     "name": "stdout",
     "output_type": "stream",
     "text": [
      "[('Android', 'NOUN'), ('has', 'VERB'), ('been', 'VERB'), ('the', 'DET'), ('best-selling', 'ADJ'), ('OS', 'NOUN'), ('worldwide', 'NOUN'), ('on', 'ADP'), ('smartphones', 'VERB'), ('since', 'ADP'), ('2011', 'NUM'), ('and', 'CONJ'), ('on', 'ADP'), ('tablets', 'NOUN'), ('since', 'ADP'), ('2013', 'NUM'), ('.', '.')]\n"
     ]
    }
   ],
   "source": [
    "#modified tagging\n",
    "tagged_seq_modified = Viterbi_modified_algo(words)\n",
    "print(tagged_seq_modified)"
   ]
  },
  {
   "cell_type": "code",
   "execution_count": 94,
   "metadata": {},
   "outputs": [
    {
     "name": "stdout",
     "output_type": "stream",
     "text": [
      "[('The', 'DET'), ('2018', 'NUM'), ('FIFA', 'NUM'), ('World', 'NOUN'), ('Cup', 'NUM'), ('is', 'VERB'), ('the', 'DET'), ('21st', 'NUM'), ('FIFA', 'NUM'), ('World', 'NOUN'), ('Cup', 'NUM'), (',', '.'), ('an', 'DET'), ('international', 'ADJ'), ('football', 'NOUN'), ('tournament', 'NUM'), ('contested', 'NUM'), ('once', 'ADV'), ('every', 'DET'), ('four', 'NUM'), ('years', 'NOUN'), ('.', '.')]\n"
     ]
    }
   ],
   "source": [
    "#initial tagging\n",
    "sentence_3='The 2018 FIFA World Cup is the 21st FIFA World Cup, an international football tournament contested once every four years.'\n",
    "words = word_tokenize(sentence_3)\n",
    "tagged_seq = Viterbi(words)\n",
    "print(tagged_seq)"
   ]
  },
  {
   "cell_type": "code",
   "execution_count": 95,
   "metadata": {},
   "outputs": [
    {
     "name": "stdout",
     "output_type": "stream",
     "text": [
      "[('The', 'DET'), ('2018', 'NUM'), ('FIFA', 'NOUN'), ('World', 'NOUN'), ('Cup', 'NOUN'), ('is', 'VERB'), ('the', 'DET'), ('21st', 'NOUN'), ('FIFA', 'NOUN'), ('World', 'NOUN'), ('Cup', 'NOUN'), (',', '.'), ('an', 'DET'), ('international', 'ADJ'), ('football', 'NOUN'), ('tournament', 'NOUN'), ('contested', 'VERB'), ('once', 'ADV'), ('every', 'DET'), ('four', 'NUM'), ('years', 'NOUN'), ('.', '.')]\n"
     ]
    }
   ],
   "source": [
    "#modified tagging\n",
    "tagged_seq_modified = Viterbi_modified_algo(words)\n",
    "print(tagged_seq_modified)"
   ]
  },
  {
   "cell_type": "code",
   "execution_count": 96,
   "metadata": {},
   "outputs": [
    {
     "name": "stdout",
     "output_type": "stream",
     "text": [
      "[('NASA', 'NUM'), ('invited', 'NUM'), ('social', 'ADJ'), ('media', 'NOUN'), ('users', 'NOUN'), ('to', 'PRT'), ('experience', 'NOUN'), ('the', 'DET'), ('launch', 'NOUN'), ('of', 'ADP'), ('ICESAT-2', 'NUM'), ('Satellite', 'NUM'), ('.', '.')]\n"
     ]
    }
   ],
   "source": [
    "#initial tagging\n",
    "sentence_4='NASA invited social media users to experience the launch of ICESAT-2 Satellite.'\n",
    "words = word_tokenize(sentence_4)\n",
    "tagged_seq = Viterbi(words)\n",
    "print(tagged_seq)"
   ]
  },
  {
   "cell_type": "code",
   "execution_count": 97,
   "metadata": {},
   "outputs": [
    {
     "name": "stdout",
     "output_type": "stream",
     "text": [
      "[('NASA', 'NOUN'), ('invited', 'VERB'), ('social', 'ADJ'), ('media', 'NOUN'), ('users', 'NOUN'), ('to', 'PRT'), ('experience', 'NOUN'), ('the', 'DET'), ('launch', 'NOUN'), ('of', 'ADP'), ('ICESAT-2', 'NOUN'), ('Satellite', 'NOUN'), ('.', '.')]\n"
     ]
    }
   ],
   "source": [
    "#modified tagging\n",
    "tagged_seq_modified = Viterbi_modified_algo(words)\n",
    "print(tagged_seq_modified)"
   ]
  },
  {
   "cell_type": "markdown",
   "metadata": {},
   "source": [
    "### So, this gives us a clear picture of where the changes were made and whether the changes done are proper or not."
   ]
  }
 ],
 "metadata": {
  "kernelspec": {
   "display_name": "Python 3",
   "language": "python",
   "name": "python3"
  },
  "language_info": {
   "codemirror_mode": {
    "name": "ipython",
    "version": 3
   },
   "file_extension": ".py",
   "mimetype": "text/x-python",
   "name": "python",
   "nbconvert_exporter": "python",
   "pygments_lexer": "ipython3",
   "version": "3.7.4"
  }
 },
 "nbformat": 4,
 "nbformat_minor": 2
}
